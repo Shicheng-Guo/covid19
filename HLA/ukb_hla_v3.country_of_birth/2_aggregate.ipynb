{
 "cells": [
  {
   "cell_type": "code",
   "execution_count": 1,
   "metadata": {},
   "outputs": [],
   "source": [
    "suppressPackageStartupMessages(library(tidyverse))\n",
    "suppressPackageStartupMessages(library(data.table))\n"
   ]
  },
  {
   "cell_type": "code",
   "execution_count": 2,
   "metadata": {},
   "outputs": [],
   "source": [
    "country_of_birth_data_d=\"/oak/stanford/groups/mrivas/ukbb24983/phenotypedata/extras/country_of_birth\"\n",
    "coding_tsv=file.path(country_of_birth_data_d, \"misc/ukb2005693_ukb37855.country_of_birth.coding.tsv\")\n",
    "freq_data_dir='private_data'\n"
   ]
  },
  {
   "cell_type": "code",
   "execution_count": 7,
   "metadata": {},
   "outputs": [],
   "source": [
    "out_f <- '../UKB.HLA.country_of_birth.tsv'"
   ]
  },
  {
   "cell_type": "code",
   "execution_count": 3,
   "metadata": {},
   "outputs": [],
   "source": [
    "source('../HLA_functions.R')\n"
   ]
  },
  {
   "cell_type": "code",
   "execution_count": 4,
   "metadata": {},
   "outputs": [],
   "source": [
    "coding_df <- fread(coding_tsv, sep='\\t') %>%\n",
    "rename('field_val' = '#field_val')\n"
   ]
  },
  {
   "cell_type": "code",
   "execution_count": 5,
   "metadata": {},
   "outputs": [],
   "source": [
    "gcount_df <- coding_df %>%\n",
    "filter(total_n >= 30) %>%\n",
    "pull(field_val) %>%\n",
    "read_plink_out('gcount') %>%\n",
    "left_join(\n",
    "    coding_df %>%\n",
    "    select(field_val, meaning), \n",
    "    by='field_val'\n",
    ") %>%\n",
    "rename(\n",
    "    'country_of_birth'='meaning', \n",
    "    'country_of_birth_code'='field_val'\n",
    ")\n"
   ]
  },
  {
   "cell_type": "code",
   "execution_count": 6,
   "metadata": {},
   "outputs": [],
   "source": [
    "df <- gcount_df %>% \n",
    "select(-CHROM, -HAP_REF_CT, -HAP_ALT_CTS) %>%\n",
    "mutate(\n",
    "    Count = HET_REF_ALT_CTS + TWO_ALT_GENO_CTS * 2,\n",
    "    Frequency = Count / (2 * (HOM_REF_CT + HET_REF_ALT_CTS + TWO_ALT_GENO_CTS)),\n",
    ") %>%\n",
    "UKB_HLA_ID_to_4digit_allele() %>%\n",
    "select(Locus, Allele, country_of_birth, Frequency, Count)\n"
   ]
  },
  {
   "cell_type": "code",
   "execution_count": 8,
   "metadata": {},
   "outputs": [],
   "source": [
    "df %>%\n",
    "rename('#Locus' = 'Locus') %>%\n",
    "fwrite(out_f, sep='\\t', na = \"NA\", quote=F)\n"
   ]
  },
  {
   "cell_type": "code",
   "execution_count": null,
   "metadata": {},
   "outputs": [],
   "source": []
  }
 ],
 "metadata": {
  "kernelspec": {
   "display_name": "R",
   "language": "R",
   "name": "ir"
  },
  "language_info": {
   "codemirror_mode": "r",
   "file_extension": ".r",
   "mimetype": "text/x-r-source",
   "name": "R",
   "pygments_lexer": "r",
   "version": "3.6.1"
  }
 },
 "nbformat": 4,
 "nbformat_minor": 4
}

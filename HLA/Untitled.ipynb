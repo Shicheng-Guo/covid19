{
 "cells": [
  {
   "cell_type": "code",
   "execution_count": 1,
   "metadata": {},
   "outputs": [],
   "source": [
    "suppressPackageStartupMessages(library(tidyverse))\n",
    "suppressPackageStartupMessages(library(data.table))\n"
   ]
  },
  {
   "cell_type": "code",
   "execution_count": 3,
   "metadata": {},
   "outputs": [],
   "source": [
    "in_f <- '17ihiw-Unrelated-FQ.tsv'"
   ]
  },
  {
   "cell_type": "code",
   "execution_count": 4,
   "metadata": {},
   "outputs": [],
   "source": [
    "out_f <- '17ihiw-Unrelated-FQ.2digits.tsv'"
   ]
  },
  {
   "cell_type": "code",
   "execution_count": 5,
   "metadata": {},
   "outputs": [],
   "source": [
    "df <- fread(in_f)"
   ]
  },
  {
   "cell_type": "code",
   "execution_count": 24,
   "metadata": {},
   "outputs": [
    {
     "data": {
      "text/html": [
       "<table>\n",
       "<caption>A grouped_df: 6 × 5</caption>\n",
       "<thead>\n",
       "\t<tr><th scope=col>Locus</th><th scope=col>group</th><th scope=col>Allele</th><th scope=col>Frequency</th><th scope=col>Count</th></tr>\n",
       "\t<tr><th scope=col>&lt;chr&gt;</th><th scope=col>&lt;chr&gt;</th><th scope=col>&lt;chr&gt;</th><th scope=col>&lt;dbl&gt;</th><th scope=col>&lt;int&gt;</th></tr>\n",
       "</thead>\n",
       "<tbody>\n",
       "\t<tr><td>HLA-A</td><td>Global</td><td>A*01</td><td>0.13362</td><td>1155</td></tr>\n",
       "\t<tr><td>HLA-A</td><td>Global</td><td>A*02</td><td>0.23311</td><td>2015</td></tr>\n",
       "\t<tr><td>HLA-A</td><td>Global</td><td>A*03</td><td>0.10805</td><td> 934</td></tr>\n",
       "\t<tr><td>HLA-A</td><td>Global</td><td>A*11</td><td>0.06571</td><td> 568</td></tr>\n",
       "\t<tr><td>HLA-A</td><td>Global</td><td>A*24</td><td>0.08017</td><td> 693</td></tr>\n",
       "\t<tr><td>HLA-A</td><td>Global</td><td>A*32</td><td>0.03702</td><td> 320</td></tr>\n",
       "</tbody>\n",
       "</table>\n"
      ],
      "text/latex": [
       "A grouped_df: 6 × 5\n",
       "\\begin{tabular}{r|lllll}\n",
       " Locus & group & Allele & Frequency & Count\\\\\n",
       " <chr> & <chr> & <chr> & <dbl> & <int>\\\\\n",
       "\\hline\n",
       "\t HLA-A & Global & A*01 & 0.13362 & 1155\\\\\n",
       "\t HLA-A & Global & A*02 & 0.23311 & 2015\\\\\n",
       "\t HLA-A & Global & A*03 & 0.10805 &  934\\\\\n",
       "\t HLA-A & Global & A*11 & 0.06571 &  568\\\\\n",
       "\t HLA-A & Global & A*24 & 0.08017 &  693\\\\\n",
       "\t HLA-A & Global & A*32 & 0.03702 &  320\\\\\n",
       "\\end{tabular}\n"
      ],
      "text/markdown": [
       "\n",
       "A grouped_df: 6 × 5\n",
       "\n",
       "| Locus &lt;chr&gt; | group &lt;chr&gt; | Allele &lt;chr&gt; | Frequency &lt;dbl&gt; | Count &lt;int&gt; |\n",
       "|---|---|---|---|---|\n",
       "| HLA-A | Global | A*01 | 0.13362 | 1155 |\n",
       "| HLA-A | Global | A*02 | 0.23311 | 2015 |\n",
       "| HLA-A | Global | A*03 | 0.10805 |  934 |\n",
       "| HLA-A | Global | A*11 | 0.06571 |  568 |\n",
       "| HLA-A | Global | A*24 | 0.08017 |  693 |\n",
       "| HLA-A | Global | A*32 | 0.03702 |  320 |\n",
       "\n"
      ],
      "text/plain": [
       "  Locus group  Allele Frequency Count\n",
       "1 HLA-A Global A*01   0.13362   1155 \n",
       "2 HLA-A Global A*02   0.23311   2015 \n",
       "3 HLA-A Global A*03   0.10805    934 \n",
       "4 HLA-A Global A*11   0.06571    568 \n",
       "5 HLA-A Global A*24   0.08017    693 \n",
       "6 HLA-A Global A*32   0.03702    320 "
      ]
     },
     "metadata": {},
     "output_type": "display_data"
    }
   ],
   "source": [
    "df %>%\n",
    "head()%>%\n",
    "rename(!!str_replace(names(df)[1], '#', '') := names(df)[1] ) %>%\n",
    "rename(group = names(df)[3]) %>%\n",
    "mutate(\n",
    "    Allele_locus = str_replace(Allele, '\\\\*[0-9:]+', ''),\n",
    "    Allele_digits = str_replace(Allele, sprintf('%s\\\\*', Allele_locus), '')\n",
    ") %>%\n",
    "mutate(\n",
    "    Allele = sprintf('%s*%s', Allele_locus, str_sub(Allele_digits, 1, 2)),\n",
    ") %>%\n",
    "select(-Allele_locus, -Allele_digits) %>%\n",
    "group_by(Locus, group, Allele) %>%\n",
    "summarise_at(names(df)[4:ncol(df)], sum, na.rm = TRUE)\n"
   ]
  },
  {
   "cell_type": "code",
   "execution_count": 75,
   "metadata": {},
   "outputs": [],
   "source": [
    "df %>%\n",
    "rename(!!str_replace(names(df)[1], '#', '') := names(df)[1] ) %>%\n",
    "rename(group = names(df)[3]) %>%\n",
    "separate(Allele, c('Allele_locus', 'Allele_digits'), sep='\\\\*') %>%\n",
    "mutate(\n",
    "    Allele = sprintf('%s*%s', Allele_locus, str_sub(Allele_digits, 1, 2)),\n",
    ") %>%\n",
    "select(-Allele_locus, -Allele_digits) %>%\n",
    "group_by(Locus, group, Allele) %>%\n",
    "summarise(\n",
    "    Count = sum(Count),\n",
    "    Frequency = sum(Frequency)\n",
    ") %>%\n",
    "ungroup() %>%\n",
    "rename(!!names(df)[3] := 'group') %>%\n",
    "rename(!!names(df)[1] := str_replace(names(df)[1], '#', '')) %>%\n",
    "select(names(df)) %>%\n",
    "fwrite(out_f, sep='\\t', na = \"NA\", quote=F)\n"
   ]
  },
  {
   "cell_type": "code",
   "execution_count": null,
   "metadata": {},
   "outputs": [],
   "source": []
  }
 ],
 "metadata": {
  "kernelspec": {
   "display_name": "R",
   "language": "R",
   "name": "ir"
  },
  "language_info": {
   "codemirror_mode": "r",
   "file_extension": ".r",
   "mimetype": "text/x-r-source",
   "name": "R",
   "pygments_lexer": "r",
   "version": "3.6.1"
  }
 },
 "nbformat": 4,
 "nbformat_minor": 4
}

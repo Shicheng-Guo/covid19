{
 "cells": [
  {
   "cell_type": "code",
   "execution_count": 1,
   "metadata": {},
   "outputs": [],
   "source": [
    "suppressPackageStartupMessages(library(tidyverse))\n",
    "suppressPackageStartupMessages(library(data.table))\n"
   ]
  },
  {
   "cell_type": "markdown",
   "metadata": {},
   "source": [
    "We will aggregate `.tsv` files from Dr. Kazutoyo Osoegawa into two table files."
   ]
  },
  {
   "cell_type": "code",
   "execution_count": 2,
   "metadata": {},
   "outputs": [],
   "source": [
    "filenames <- setNames(\n",
    "    list(setNames(\n",
    "        c('Global_HLA-A_Haplotype_Summary_2020-03-24.tsv',\n",
    "        'Global_HLA-B_Haplotype_Summary_2020-03-24.tsv',\n",
    "        'Global_HLA-C_Haplotype_Summary_2020-03-24.tsv',\n",
    "        'Global_HLA-DPA1_Locus_Summary_2020-03-24.tsv',\n",
    "        'Global_HLA-DPB1_Haplotype_Summary_2020-03-24.tsv',\n",
    "        'Global_HLA-DQA1_Locus_Summary_2020-03-24.tsv',\n",
    "        'Global_HLA-DQB1_Haplotype_Summary_2020-03-24.tsv',\n",
    "        'Global_HLA-DRB1_Haplotype_Summary_2020-03-24.tsv',\n",
    "        'Global_HLA-DRB3_Locus_Summary_2020-03-24.tsv',\n",
    "        'Global_HLA-DRB4_Locus_Summary_2020-03-24.tsv',\n",
    "        'Global_HLA-DRB5_Locus_Summary_2020-03-24.tsv'),\n",
    "        c('HLA-A', 'HLA-B', 'HLA-C', \n",
    "          'HLA-DPA1', 'HLA-DPB1', 'HLA-DQA1', 'HLA-DQB1', \n",
    "          'HLA-DRB1', 'HLA-DRB3', 'HLA-DRB4', 'HLA-DRB5')),\n",
    "      setNames(\n",
    "        c(\n",
    "        'A_unrelated_freq.tsv',\n",
    "        'B_unrelated_freq.tsv',\n",
    "        'C_unrelated_freq.tsv',\n",
    "        'DPA1_unrelated_freq.tsv',\n",
    "        'DPB1_unrelated_freq.tsv',\n",
    "        'DQA1_unrelated_freq.tsv',\n",
    "        'DQB1_unrelated_freq.tsv',\n",
    "        'DRB1_unrelated_freq.tsv',\n",
    "        'DRB3_unrelated_freq.tsv',\n",
    "        'DRB4_unrelated_freq.tsv',\n",
    "        'DRB5_unrelated_freq.tsv'),\n",
    "        c(\n",
    "        'HLA-A',\n",
    "        'HLA-B',\n",
    "        'HLA-C',\n",
    "        'HLA-DPA1',\n",
    "        'HLA-DPB1',\n",
    "        'HLA-DQA1',\n",
    "        'HLA-DQB1',\n",
    "        'HLA-DRB1',\n",
    "        'HLA-DRB3',\n",
    "        'HLA-DRB4',\n",
    "        'HLA-DRB5')\n",
    "      )),\n",
    "    list('family', 'unrelated')\n",
    ")\n"
   ]
  },
  {
   "cell_type": "code",
   "execution_count": 3,
   "metadata": {},
   "outputs": [
    {
     "data": {
      "text/html": [
       "<dl class=dl-horizontal>\n",
       "\t<dt>HLA-A</dt>\n",
       "\t\t<dd>'Global_HLA-A_Haplotype_Summary_2020-03-24.tsv'</dd>\n",
       "\t<dt>HLA-B</dt>\n",
       "\t\t<dd>'Global_HLA-B_Haplotype_Summary_2020-03-24.tsv'</dd>\n",
       "\t<dt>HLA-C</dt>\n",
       "\t\t<dd>'Global_HLA-C_Haplotype_Summary_2020-03-24.tsv'</dd>\n",
       "\t<dt>HLA-DPA1</dt>\n",
       "\t\t<dd>'Global_HLA-DPA1_Locus_Summary_2020-03-24.tsv'</dd>\n",
       "\t<dt>HLA-DPB1</dt>\n",
       "\t\t<dd>'Global_HLA-DPB1_Haplotype_Summary_2020-03-24.tsv'</dd>\n",
       "\t<dt>HLA-DQA1</dt>\n",
       "\t\t<dd>'Global_HLA-DQA1_Locus_Summary_2020-03-24.tsv'</dd>\n",
       "\t<dt>HLA-DQB1</dt>\n",
       "\t\t<dd>'Global_HLA-DQB1_Haplotype_Summary_2020-03-24.tsv'</dd>\n",
       "\t<dt>HLA-DRB1</dt>\n",
       "\t\t<dd>'Global_HLA-DRB1_Haplotype_Summary_2020-03-24.tsv'</dd>\n",
       "\t<dt>HLA-DRB3</dt>\n",
       "\t\t<dd>'Global_HLA-DRB3_Locus_Summary_2020-03-24.tsv'</dd>\n",
       "\t<dt>HLA-DRB4</dt>\n",
       "\t\t<dd>'Global_HLA-DRB4_Locus_Summary_2020-03-24.tsv'</dd>\n",
       "\t<dt>HLA-DRB5</dt>\n",
       "\t\t<dd>'Global_HLA-DRB5_Locus_Summary_2020-03-24.tsv'</dd>\n",
       "</dl>\n"
      ],
      "text/latex": [
       "\\begin{description*}\n",
       "\\item[HLA-A] 'Global\\_HLA-A\\_Haplotype\\_Summary\\_2020-03-24.tsv'\n",
       "\\item[HLA-B] 'Global\\_HLA-B\\_Haplotype\\_Summary\\_2020-03-24.tsv'\n",
       "\\item[HLA-C] 'Global\\_HLA-C\\_Haplotype\\_Summary\\_2020-03-24.tsv'\n",
       "\\item[HLA-DPA1] 'Global\\_HLA-DPA1\\_Locus\\_Summary\\_2020-03-24.tsv'\n",
       "\\item[HLA-DPB1] 'Global\\_HLA-DPB1\\_Haplotype\\_Summary\\_2020-03-24.tsv'\n",
       "\\item[HLA-DQA1] 'Global\\_HLA-DQA1\\_Locus\\_Summary\\_2020-03-24.tsv'\n",
       "\\item[HLA-DQB1] 'Global\\_HLA-DQB1\\_Haplotype\\_Summary\\_2020-03-24.tsv'\n",
       "\\item[HLA-DRB1] 'Global\\_HLA-DRB1\\_Haplotype\\_Summary\\_2020-03-24.tsv'\n",
       "\\item[HLA-DRB3] 'Global\\_HLA-DRB3\\_Locus\\_Summary\\_2020-03-24.tsv'\n",
       "\\item[HLA-DRB4] 'Global\\_HLA-DRB4\\_Locus\\_Summary\\_2020-03-24.tsv'\n",
       "\\item[HLA-DRB5] 'Global\\_HLA-DRB5\\_Locus\\_Summary\\_2020-03-24.tsv'\n",
       "\\end{description*}\n"
      ],
      "text/markdown": [
       "HLA-A\n",
       ":   'Global_HLA-A_Haplotype_Summary_2020-03-24.tsv'HLA-B\n",
       ":   'Global_HLA-B_Haplotype_Summary_2020-03-24.tsv'HLA-C\n",
       ":   'Global_HLA-C_Haplotype_Summary_2020-03-24.tsv'HLA-DPA1\n",
       ":   'Global_HLA-DPA1_Locus_Summary_2020-03-24.tsv'HLA-DPB1\n",
       ":   'Global_HLA-DPB1_Haplotype_Summary_2020-03-24.tsv'HLA-DQA1\n",
       ":   'Global_HLA-DQA1_Locus_Summary_2020-03-24.tsv'HLA-DQB1\n",
       ":   'Global_HLA-DQB1_Haplotype_Summary_2020-03-24.tsv'HLA-DRB1\n",
       ":   'Global_HLA-DRB1_Haplotype_Summary_2020-03-24.tsv'HLA-DRB3\n",
       ":   'Global_HLA-DRB3_Locus_Summary_2020-03-24.tsv'HLA-DRB4\n",
       ":   'Global_HLA-DRB4_Locus_Summary_2020-03-24.tsv'HLA-DRB5\n",
       ":   'Global_HLA-DRB5_Locus_Summary_2020-03-24.tsv'\n",
       "\n"
      ],
      "text/plain": [
       "                                             HLA-A \n",
       "   \"Global_HLA-A_Haplotype_Summary_2020-03-24.tsv\" \n",
       "                                             HLA-B \n",
       "   \"Global_HLA-B_Haplotype_Summary_2020-03-24.tsv\" \n",
       "                                             HLA-C \n",
       "   \"Global_HLA-C_Haplotype_Summary_2020-03-24.tsv\" \n",
       "                                          HLA-DPA1 \n",
       "    \"Global_HLA-DPA1_Locus_Summary_2020-03-24.tsv\" \n",
       "                                          HLA-DPB1 \n",
       "\"Global_HLA-DPB1_Haplotype_Summary_2020-03-24.tsv\" \n",
       "                                          HLA-DQA1 \n",
       "    \"Global_HLA-DQA1_Locus_Summary_2020-03-24.tsv\" \n",
       "                                          HLA-DQB1 \n",
       "\"Global_HLA-DQB1_Haplotype_Summary_2020-03-24.tsv\" \n",
       "                                          HLA-DRB1 \n",
       "\"Global_HLA-DRB1_Haplotype_Summary_2020-03-24.tsv\" \n",
       "                                          HLA-DRB3 \n",
       "    \"Global_HLA-DRB3_Locus_Summary_2020-03-24.tsv\" \n",
       "                                          HLA-DRB4 \n",
       "    \"Global_HLA-DRB4_Locus_Summary_2020-03-24.tsv\" \n",
       "                                          HLA-DRB5 \n",
       "    \"Global_HLA-DRB5_Locus_Summary_2020-03-24.tsv\" "
      ]
     },
     "metadata": {},
     "output_type": "display_data"
    }
   ],
   "source": [
    "filenames[['family']]"
   ]
  },
  {
   "cell_type": "code",
   "execution_count": 4,
   "metadata": {},
   "outputs": [
    {
     "data": {
      "text/html": [
       "<dl class=dl-horizontal>\n",
       "\t<dt>HLA-A</dt>\n",
       "\t\t<dd>'A_unrelated_freq.tsv'</dd>\n",
       "\t<dt>HLA-B</dt>\n",
       "\t\t<dd>'B_unrelated_freq.tsv'</dd>\n",
       "\t<dt>HLA-C</dt>\n",
       "\t\t<dd>'C_unrelated_freq.tsv'</dd>\n",
       "\t<dt>HLA-DPA1</dt>\n",
       "\t\t<dd>'DPA1_unrelated_freq.tsv'</dd>\n",
       "\t<dt>HLA-DPB1</dt>\n",
       "\t\t<dd>'DPB1_unrelated_freq.tsv'</dd>\n",
       "\t<dt>HLA-DQA1</dt>\n",
       "\t\t<dd>'DQA1_unrelated_freq.tsv'</dd>\n",
       "\t<dt>HLA-DQB1</dt>\n",
       "\t\t<dd>'DQB1_unrelated_freq.tsv'</dd>\n",
       "\t<dt>HLA-DRB1</dt>\n",
       "\t\t<dd>'DRB1_unrelated_freq.tsv'</dd>\n",
       "\t<dt>HLA-DRB3</dt>\n",
       "\t\t<dd>'DRB3_unrelated_freq.tsv'</dd>\n",
       "\t<dt>HLA-DRB4</dt>\n",
       "\t\t<dd>'DRB4_unrelated_freq.tsv'</dd>\n",
       "\t<dt>HLA-DRB5</dt>\n",
       "\t\t<dd>'DRB5_unrelated_freq.tsv'</dd>\n",
       "</dl>\n"
      ],
      "text/latex": [
       "\\begin{description*}\n",
       "\\item[HLA-A] 'A\\_unrelated\\_freq.tsv'\n",
       "\\item[HLA-B] 'B\\_unrelated\\_freq.tsv'\n",
       "\\item[HLA-C] 'C\\_unrelated\\_freq.tsv'\n",
       "\\item[HLA-DPA1] 'DPA1\\_unrelated\\_freq.tsv'\n",
       "\\item[HLA-DPB1] 'DPB1\\_unrelated\\_freq.tsv'\n",
       "\\item[HLA-DQA1] 'DQA1\\_unrelated\\_freq.tsv'\n",
       "\\item[HLA-DQB1] 'DQB1\\_unrelated\\_freq.tsv'\n",
       "\\item[HLA-DRB1] 'DRB1\\_unrelated\\_freq.tsv'\n",
       "\\item[HLA-DRB3] 'DRB3\\_unrelated\\_freq.tsv'\n",
       "\\item[HLA-DRB4] 'DRB4\\_unrelated\\_freq.tsv'\n",
       "\\item[HLA-DRB5] 'DRB5\\_unrelated\\_freq.tsv'\n",
       "\\end{description*}\n"
      ],
      "text/markdown": [
       "HLA-A\n",
       ":   'A_unrelated_freq.tsv'HLA-B\n",
       ":   'B_unrelated_freq.tsv'HLA-C\n",
       ":   'C_unrelated_freq.tsv'HLA-DPA1\n",
       ":   'DPA1_unrelated_freq.tsv'HLA-DPB1\n",
       ":   'DPB1_unrelated_freq.tsv'HLA-DQA1\n",
       ":   'DQA1_unrelated_freq.tsv'HLA-DQB1\n",
       ":   'DQB1_unrelated_freq.tsv'HLA-DRB1\n",
       ":   'DRB1_unrelated_freq.tsv'HLA-DRB3\n",
       ":   'DRB3_unrelated_freq.tsv'HLA-DRB4\n",
       ":   'DRB4_unrelated_freq.tsv'HLA-DRB5\n",
       ":   'DRB5_unrelated_freq.tsv'\n",
       "\n"
      ],
      "text/plain": [
       "                    HLA-A                     HLA-B                     HLA-C \n",
       "   \"A_unrelated_freq.tsv\"    \"B_unrelated_freq.tsv\"    \"C_unrelated_freq.tsv\" \n",
       "                 HLA-DPA1                  HLA-DPB1                  HLA-DQA1 \n",
       "\"DPA1_unrelated_freq.tsv\" \"DPB1_unrelated_freq.tsv\" \"DQA1_unrelated_freq.tsv\" \n",
       "                 HLA-DQB1                  HLA-DRB1                  HLA-DRB3 \n",
       "\"DQB1_unrelated_freq.tsv\" \"DRB1_unrelated_freq.tsv\" \"DRB3_unrelated_freq.tsv\" \n",
       "                 HLA-DRB4                  HLA-DRB5 \n",
       "\"DRB4_unrelated_freq.tsv\" \"DRB5_unrelated_freq.tsv\" "
      ]
     },
     "metadata": {},
     "output_type": "display_data"
    }
   ],
   "source": [
    "filenames[['unrelated']]"
   ]
  },
  {
   "cell_type": "code",
   "execution_count": 5,
   "metadata": {},
   "outputs": [],
   "source": [
    "df_family <- filenames[['family']] %>%\n",
    "names() %>%\n",
    "lapply(function(locus){\n",
    "    file.path(\n",
    "        '17th-ihiw-ngs-hla-data',\n",
    "        'family',\n",
    "        filenames[['family']][[locus]]\n",
    "    ) %>%\n",
    "    fread(sep='\\t')\n",
    "}) %>%\n",
    "bind_rows()\n"
   ]
  },
  {
   "cell_type": "code",
   "execution_count": 6,
   "metadata": {},
   "outputs": [],
   "source": [
    "df_unrelated <- filenames[['unrelated']] %>%\n",
    "names() %>%\n",
    "lapply(function(locus){\n",
    "    file.path(\n",
    "        '17th-ihiw-ngs-hla-data',\n",
    "        'unrelated',\n",
    "        filenames[['unrelated']][[locus]]\n",
    "    ) %>%\n",
    "    fread(sep='\\t')\n",
    "}) %>%\n",
    "bind_rows()\n"
   ]
  },
  {
   "cell_type": "code",
   "execution_count": 7,
   "metadata": {},
   "outputs": [],
   "source": [
    "df_family %>%\n",
    "rename('#Locus' = 'Locus')%>%\n",
    "fwrite('17ihiw-Family-FQ.tsv', sep='\\t')"
   ]
  },
  {
   "cell_type": "code",
   "execution_count": 8,
   "metadata": {},
   "outputs": [],
   "source": [
    "df_unrelated %>%\n",
    "rename('#Locus' = 'Locus')%>%\n",
    "fwrite('17ihiw-Unrelated-FQ.tsv', sep='\\t')"
   ]
  },
  {
   "cell_type": "code",
   "execution_count": null,
   "metadata": {},
   "outputs": [],
   "source": []
  }
 ],
 "metadata": {
  "kernelspec": {
   "display_name": "R",
   "language": "R",
   "name": "ir"
  },
  "language_info": {
   "codemirror_mode": "r",
   "file_extension": ".r",
   "mimetype": "text/x-r-source",
   "name": "R",
   "pygments_lexer": "r",
   "version": "3.6.1"
  }
 },
 "nbformat": 4,
 "nbformat_minor": 4
}

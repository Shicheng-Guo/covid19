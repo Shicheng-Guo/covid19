{
 "cells": [
  {
   "cell_type": "code",
   "execution_count": 1,
   "metadata": {},
   "outputs": [],
   "source": [
    "suppressPackageStartupMessages(library(tidyverse))\n",
    "suppressPackageStartupMessages(library(data.table))\n"
   ]
  },
  {
   "cell_type": "code",
   "execution_count": 2,
   "metadata": {},
   "outputs": [],
   "source": [
    "#inputs\n",
    "phe_info_f <- '../snpnet/pheno.info.tsv'\n",
    "PheWAS_traits_f <- 'PRS_PheWAS.phenotypes.tsv'\n",
    "PRS_PheWAS_res_f <- 'data/phewas.white_british.full.tsv'\n",
    "\n",
    "# output\n",
    "PRS_PheWAS_summary_f <- 'phewas.white_british.summary.tsv'\n"
   ]
  },
  {
   "cell_type": "code",
   "execution_count": 3,
   "metadata": {},
   "outputs": [],
   "source": [
    "# list of target traits\n",
    "PheWAS_traits <- fread(PheWAS_traits_f, sep='\\t') %>%\n",
    "rename('GBE_ID' = '#GBE_ID')\n"
   ]
  },
  {
   "cell_type": "code",
   "execution_count": 4,
   "metadata": {},
   "outputs": [],
   "source": [
    "# read phenotype meta data file\n",
    "phe_info_df <- fread(phe_info_f) %>%\n",
    "rename('GBE_ID' = '#GBE_ID')\n"
   ]
  },
  {
   "cell_type": "code",
   "execution_count": 18,
   "metadata": {},
   "outputs": [],
   "source": [
    "traits_for_write_up <- c(\n",
    "    'INI30190',\n",
    "    'INI30150',\n",
    "    'INI30210',\n",
    "    'INI30120',\n",
    "    'INI30180',\n",
    "    'INI30140',\n",
    "    'INI30200',\n",
    "    'INI30000'\n",
    ")"
   ]
  },
  {
   "cell_type": "code",
   "execution_count": 19,
   "metadata": {},
   "outputs": [
    {
     "data": {
      "text/html": [
       "<table>\n",
       "<caption>A data.frame: 8 × 4</caption>\n",
       "<thead>\n",
       "\t<tr><th scope=col>GBE_ID</th><th scope=col>pheno</th><th scope=col>pheno_plot</th><th scope=col>Units_of_measurement</th></tr>\n",
       "\t<tr><th scope=col>&lt;chr&gt;</th><th scope=col>&lt;chr&gt;</th><th scope=col>&lt;chr&gt;</th><th scope=col>&lt;chr&gt;</th></tr>\n",
       "</thead>\n",
       "<tbody>\n",
       "\t<tr><td>INI30000</td><td>White_blood_cell_(leukocyte)_count</td><td>White blood cell count</td><td>$10^9$ cells/Litre</td></tr>\n",
       "\t<tr><td>INI30120</td><td>Lymphocyte_count                  </td><td>Lymphocyte count      </td><td>$10^9$ cells/Litre</td></tr>\n",
       "\t<tr><td>INI30140</td><td>Neutrophill_count                 </td><td>Neutrophill count     </td><td>$10^9$ cells/Litre</td></tr>\n",
       "\t<tr><td>INI30150</td><td>Eosinophill_count                 </td><td>Eosinophill count     </td><td>$10^9$ cells/Litre</td></tr>\n",
       "\t<tr><td>INI30180</td><td>Lymphocyte_percentage             </td><td>Lymphocyte %          </td><td>percent           </td></tr>\n",
       "\t<tr><td>INI30190</td><td>Monocyte_percentage               </td><td>Monocyte %            </td><td>percent           </td></tr>\n",
       "\t<tr><td>INI30200</td><td>Neutrophill_percentage            </td><td>Neutrophill %         </td><td>percent           </td></tr>\n",
       "\t<tr><td>INI30210</td><td>Eosinophill_percentage            </td><td>Eosinophill %         </td><td>percent           </td></tr>\n",
       "</tbody>\n",
       "</table>\n"
      ],
      "text/latex": [
       "A data.frame: 8 × 4\n",
       "\\begin{tabular}{r|llll}\n",
       " GBE\\_ID & pheno & pheno\\_plot & Units\\_of\\_measurement\\\\\n",
       " <chr> & <chr> & <chr> & <chr>\\\\\n",
       "\\hline\n",
       "\t INI30000 & White\\_blood\\_cell\\_(leukocyte)\\_count & White blood cell count & \\$10\\textasciicircum{}9\\$ cells/Litre\\\\\n",
       "\t INI30120 & Lymphocyte\\_count                   & Lymphocyte count       & \\$10\\textasciicircum{}9\\$ cells/Litre\\\\\n",
       "\t INI30140 & Neutrophill\\_count                  & Neutrophill count      & \\$10\\textasciicircum{}9\\$ cells/Litre\\\\\n",
       "\t INI30150 & Eosinophill\\_count                  & Eosinophill count      & \\$10\\textasciicircum{}9\\$ cells/Litre\\\\\n",
       "\t INI30180 & Lymphocyte\\_percentage              & Lymphocyte \\%           & percent           \\\\\n",
       "\t INI30190 & Monocyte\\_percentage                & Monocyte \\%             & percent           \\\\\n",
       "\t INI30200 & Neutrophill\\_percentage             & Neutrophill \\%          & percent           \\\\\n",
       "\t INI30210 & Eosinophill\\_percentage             & Eosinophill \\%          & percent           \\\\\n",
       "\\end{tabular}\n"
      ],
      "text/markdown": [
       "\n",
       "A data.frame: 8 × 4\n",
       "\n",
       "| GBE_ID &lt;chr&gt; | pheno &lt;chr&gt; | pheno_plot &lt;chr&gt; | Units_of_measurement &lt;chr&gt; |\n",
       "|---|---|---|---|\n",
       "| INI30000 | White_blood_cell_(leukocyte)_count | White blood cell count | $10^9$ cells/Litre |\n",
       "| INI30120 | Lymphocyte_count                   | Lymphocyte count       | $10^9$ cells/Litre |\n",
       "| INI30140 | Neutrophill_count                  | Neutrophill count      | $10^9$ cells/Litre |\n",
       "| INI30150 | Eosinophill_count                  | Eosinophill count      | $10^9$ cells/Litre |\n",
       "| INI30180 | Lymphocyte_percentage              | Lymphocyte %           | percent            |\n",
       "| INI30190 | Monocyte_percentage                | Monocyte %             | percent            |\n",
       "| INI30200 | Neutrophill_percentage             | Neutrophill %          | percent            |\n",
       "| INI30210 | Eosinophill_percentage             | Eosinophill %          | percent            |\n",
       "\n"
      ],
      "text/plain": [
       "  GBE_ID   pheno                              pheno_plot            \n",
       "1 INI30000 White_blood_cell_(leukocyte)_count White blood cell count\n",
       "2 INI30120 Lymphocyte_count                   Lymphocyte count      \n",
       "3 INI30140 Neutrophill_count                  Neutrophill count     \n",
       "4 INI30150 Eosinophill_count                  Eosinophill count     \n",
       "5 INI30180 Lymphocyte_percentage              Lymphocyte %          \n",
       "6 INI30190 Monocyte_percentage                Monocyte %            \n",
       "7 INI30200 Neutrophill_percentage             Neutrophill %         \n",
       "8 INI30210 Eosinophill_percentage             Eosinophill %         \n",
       "  Units_of_measurement\n",
       "1 $10^9$ cells/Litre  \n",
       "2 $10^9$ cells/Litre  \n",
       "3 $10^9$ cells/Litre  \n",
       "4 $10^9$ cells/Litre  \n",
       "5 percent             \n",
       "6 percent             \n",
       "7 percent             \n",
       "8 percent             "
      ]
     },
     "metadata": {},
     "output_type": "display_data"
    }
   ],
   "source": [
    "phe_info_df %>%\n",
    "filter(GBE_ID %in% traits_for_write_up)"
   ]
  },
  {
   "cell_type": "code",
   "execution_count": 20,
   "metadata": {},
   "outputs": [],
   "source": [
    "PRS_PheWAS_res_df <- fread(\n",
    "    PRS_PheWAS_res_f,\n",
    "    colClasses=c('BETA_str'='character', 'P_str'='character')\n",
    ") %>%\n",
    "rename('phenotype' = '#phenotype') %>%\n",
    "mutate(\n",
    "    BETA_str = sprintf('%.3f (%.3f,%.3f)', BETA, l_err, u_err),\n",
    ") %>%\n",
    "select(-l_err, -u_err, -std_err, -BETA) %>%\n",
    "rename('BETA'='BETA_str') %>%\n",
    "filter(PRS_col %in% (traits_for_write_up %>% lapply(function(x){paste0(x, '_PRS')})))\n"
   ]
  },
  {
   "cell_type": "code",
   "execution_count": 21,
   "metadata": {},
   "outputs": [],
   "source": [
    "PRS_PheWAS_res_df$fdr <- p.adjust(PRS_PheWAS_res_df$P, method = 'BH')\n"
   ]
  },
  {
   "cell_type": "code",
   "execution_count": 22,
   "metadata": {},
   "outputs": [
    {
     "data": {
      "text/html": [
       "0.00701655816664228"
      ],
      "text/latex": [
       "0.00701655816664228"
      ],
      "text/markdown": [
       "0.00701655816664228"
      ],
      "text/plain": [
       "[1] 0.007016558"
      ]
     },
     "metadata": {},
     "output_type": "display_data"
    }
   ],
   "source": [
    "PRS_PheWAS_res_df$fdr %>% min()"
   ]
  },
  {
   "cell_type": "code",
   "execution_count": 23,
   "metadata": {},
   "outputs": [
    {
     "data": {
      "text/html": [
       "352"
      ],
      "text/latex": [
       "352"
      ],
      "text/markdown": [
       "352"
      ],
      "text/plain": [
       "[1] 352"
      ]
     },
     "metadata": {},
     "output_type": "display_data"
    }
   ],
   "source": [
    "PRS_PheWAS_res_df %>% \n",
    "select(phenotype, PRS_col) %>%\n",
    "unique() %>% nrow()"
   ]
  },
  {
   "cell_type": "markdown",
   "metadata": {},
   "source": [
    "We have 352 unique combination of PRS phenotypes and the target (Infectious Diseases) phenotypes.\n"
   ]
  },
  {
   "cell_type": "code",
   "execution_count": 24,
   "metadata": {},
   "outputs": [],
   "source": [
    "PRS_PheWAS_summary_df <- PRS_PheWAS_res_df %>% \n",
    "arrange(P) %>%\n",
    "select(-P) %>%\n",
    "rename('P' = 'P_str') %>%\n",
    "rename('GBE_ID' = 'phenotype')%>%\n",
    "left_join(\n",
    "    PheWAS_traits %>% select(GBE_ID, phenotype, N_WB),\n",
    "    by='GBE_ID'\n",
    ")%>%\n",
    "left_join(\n",
    "    phe_info_df %>%\n",
    "    mutate(\n",
    "        PRS_col = paste0(GBE_ID, '_PRS')\n",
    "    ) %>%\n",
    "    select(PRS_col, pheno_plot) %>%\n",
    "    rename('PRS_pheno'='pheno_plot'),\n",
    "    by='PRS_col'\n",
    ") %>%\n",
    "rename('PRS'='PRS_col') %>%\n",
    "select(GBE_ID, PRS, phenotype, PRS_pheno, BETA, P, fdr)"
   ]
  },
  {
   "cell_type": "code",
   "execution_count": 25,
   "metadata": {},
   "outputs": [],
   "source": [
    "PRS_PheWAS_summary_df %>%\n",
    "rename('#GBE_ID' = 'GBE_ID') %>%\n",
    "fwrite(PRS_PheWAS_summary_f, sep='\\t', na = \"NA\", quote=F)\n",
    "\n"
   ]
  },
  {
   "cell_type": "code",
   "execution_count": null,
   "metadata": {},
   "outputs": [],
   "source": []
  }
 ],
 "metadata": {
  "kernelspec": {
   "display_name": "R",
   "language": "R",
   "name": "ir"
  },
  "language_info": {
   "codemirror_mode": "r",
   "file_extension": ".r",
   "mimetype": "text/x-r-source",
   "name": "R",
   "pygments_lexer": "r",
   "version": "3.6.1"
  }
 },
 "nbformat": 4,
 "nbformat_minor": 4
}

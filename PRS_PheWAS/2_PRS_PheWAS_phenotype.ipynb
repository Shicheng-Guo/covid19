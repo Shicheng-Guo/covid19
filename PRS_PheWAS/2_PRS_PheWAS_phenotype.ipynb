{
 "cells": [
  {
   "cell_type": "code",
   "execution_count": 1,
   "metadata": {},
   "outputs": [],
   "source": [
    "suppressPackageStartupMessages(library(tidyverse))\n",
    "suppressPackageStartupMessages(library(data.table))\n"
   ]
  },
  {
   "cell_type": "code",
   "execution_count": 2,
   "metadata": {},
   "outputs": [],
   "source": [
    "master_phe_info_f <- '@@@@@@@@@@@@@@@@@@@'\n"
   ]
  },
  {
   "cell_type": "code",
   "execution_count": 5,
   "metadata": {},
   "outputs": [],
   "source": [
    "master_phe_info_df <- fread(master_phe_info_f) %>%\n",
    "rename('GBE_ID' = '#GBE_ID')"
   ]
  },
  {
   "cell_type": "code",
   "execution_count": 7,
   "metadata": {},
   "outputs": [],
   "source": [
    "# This file is a copy from \n",
    "# UK Biobank Category 1307\n",
    "# Infectious Disease Antigens - Infectious Diseases - Blood assays - Assay results - Biological samples\n",
    "# https://biobank.ctsu.ox.ac.uk/crystal/label.cgi?id=1307\n",
    "\n",
    "list_of_fields <- fread('UKB_Category_1307.tsv') %>%\n",
    "rename('Field_ID' = '#Field_ID')\n"
   ]
  },
  {
   "cell_type": "code",
   "execution_count": 10,
   "metadata": {},
   "outputs": [
    {
     "name": "stderr",
     "output_type": "stream",
     "text": [
      "Auto-refreshing stale OAuth token.\n",
      "Sheet-identifying info appears to be a browser URL.\n",
      "googlesheets will attempt to extract sheet key from the URL.\n",
      "Putative key: @@@@@@@@@@@@@@@@@@@\n",
      "Sheet successfully identified: \"GBE_names\"\n",
      "Accessing worksheet titled 'GBE_names'.\n",
      "Parsed with column specification:\n",
      "cols(\n",
      "  GBE_category = \u001b[31mcol_character()\u001b[39m,\n",
      "  GBE_ID = \u001b[31mcol_character()\u001b[39m,\n",
      "  GBE_N = \u001b[32mcol_double()\u001b[39m,\n",
      "  GBE_NAME = \u001b[31mcol_character()\u001b[39m,\n",
      "  GBE_short_name = \u001b[31mcol_character()\u001b[39m,\n",
      "  GBE_short_name_len = \u001b[32mcol_double()\u001b[39m\n",
      ")\n"
     ]
    }
   ],
   "source": [
    "library(googlesheets)\n",
    "gs_auth(token = \"@@@@@@@@@@@@@@@@@@@\")\n",
    "\n",
    "file <- '@@@@@@@@@@@@@@@@@@@'\n",
    "GBE_names_df <- file %>% gs_url() %>% gs_read(ws = 'GBE_names')\n"
   ]
  },
  {
   "cell_type": "code",
   "execution_count": 23,
   "metadata": {},
   "outputs": [],
   "source": [
    "PheWAS_traits <- master_phe_info_df %>% \n",
    "filter(FIELD %in% list_of_fields$Field_ID) %>%\n",
    "left_join(\n",
    "    GBE_names_df %>%\n",
    "    rename('phenotype' = 'GBE_short_name', 'phenotype_full' = 'GBE_NAME') %>%\n",
    "    select(GBE_ID, phenotype, phenotype_full),\n",
    "    by='GBE_ID'\n",
    ") %>%\n",
    "rename('N_WB' = 'N_GBE', 'UKB_Field' = 'FIELD') %>%\n",
    "select(GBE_ID, phenotype, phenotype_full, UKB_Field, N, N_WB, N_AFR, N_SAS, N_EAS)\n"
   ]
  },
  {
   "cell_type": "code",
   "execution_count": 25,
   "metadata": {},
   "outputs": [
    {
     "data": {
      "text/html": [
       "<ol class=list-inline>\n",
       "\t<li>23049</li>\n",
       "\t<li>23048</li>\n",
       "</ol>\n"
      ],
      "text/latex": [
       "\\begin{enumerate*}\n",
       "\\item 23049\n",
       "\\item 23048\n",
       "\\end{enumerate*}\n"
      ],
      "text/markdown": [
       "1. 23049\n",
       "2. 23048\n",
       "\n",
       "\n"
      ],
      "text/plain": [
       "[1] 23049 23048"
      ]
     },
     "metadata": {},
     "output_type": "display_data"
    }
   ],
   "source": [
    "setdiff(list_of_fields$Field_ID, PheWAS_traits$UKB_Field)"
   ]
  },
  {
   "cell_type": "code",
   "execution_count": 27,
   "metadata": {},
   "outputs": [],
   "source": [
    "PheWAS_traits %>%\n",
    "rename('#GBE_ID' = 'GBE_ID') %>%\n",
    "fwrite('PRS_PheWAS.phenotypes.tsv', sep='\\t')"
   ]
  },
  {
   "cell_type": "code",
   "execution_count": null,
   "metadata": {},
   "outputs": [],
   "source": []
  }
 ],
 "metadata": {
  "kernelspec": {
   "display_name": "R",
   "language": "R",
   "name": "ir"
  },
  "language_info": {
   "codemirror_mode": "r",
   "file_extension": ".r",
   "mimetype": "text/x-r-source",
   "name": "R",
   "pygments_lexer": "r",
   "version": "3.6.1"
  }
 },
 "nbformat": 4,
 "nbformat_minor": 4
}

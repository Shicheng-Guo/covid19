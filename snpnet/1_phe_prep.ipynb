{
 "cells": [
  {
   "cell_type": "code",
   "execution_count": 1,
   "metadata": {},
   "outputs": [],
   "source": [
    "suppressPackageStartupMessages(library(tidyverse))\n",
    "suppressPackageStartupMessages(library(data.table))\n"
   ]
  },
  {
   "cell_type": "markdown",
   "metadata": {},
   "source": [
    "### input files"
   ]
  },
  {
   "cell_type": "code",
   "execution_count": 2,
   "metadata": {},
   "outputs": [],
   "source": [
    "gwas_covar_f <- '@@@@@@@@@@@@@@@@@@@'\n"
   ]
  },
  {
   "cell_type": "code",
   "execution_count": 3,
   "metadata": {},
   "outputs": [],
   "source": [
    "biomarker_f <- '@@@@@@@@@@@@@@@@@@@'\n"
   ]
  },
  {
   "cell_type": "code",
   "execution_count": 4,
   "metadata": {},
   "outputs": [],
   "source": [
    "biomarker_trait_list_f <- '@@@@@@@@@@@@@@@@@@@'\n"
   ]
  },
  {
   "cell_type": "code",
   "execution_count": 5,
   "metadata": {},
   "outputs": [],
   "source": [
    "master_phe_f <- '@@@@@@@@@@@@@@@@@@@'\n"
   ]
  },
  {
   "cell_type": "markdown",
   "metadata": {},
   "source": [
    "### output"
   ]
  },
  {
   "cell_type": "code",
   "execution_count": 68,
   "metadata": {},
   "outputs": [],
   "source": [
    "phe_info_f <- 'pheno.info.tsv'\n",
    "phe_file <- 'data/pheno.tsv'\n"
   ]
  },
  {
   "cell_type": "code",
   "execution_count": 10,
   "metadata": {},
   "outputs": [],
   "source": [
    "gwas_covar_df <- fread(\n",
    "    gwas_covar_f,\n",
    "    select=c('FID', 'IID', 'population', 'split', 'age', 'sex', 'N_CNV', 'LEN_CNV', 'Array', paste0('PC', 1:10)),\n",
    "    colClasses=c('FID'='character', 'IID'='character')\n",
    ")\n"
   ]
  },
  {
   "cell_type": "code",
   "execution_count": 12,
   "metadata": {},
   "outputs": [],
   "source": [
    "biomarker_trait_list_df <- fread(biomarker_trait_list_f)\n"
   ]
  },
  {
   "cell_type": "code",
   "execution_count": 18,
   "metadata": {},
   "outputs": [],
   "source": [
    "biomarker_df <- fread(\n",
    "    biomarker_f,\n",
    "    select=c(\n",
    "        'FID', 'IID', \n",
    "        biomarker_trait_list_df %>% \n",
    "        filter(annotation != 'Fasting_glucose') %>%\n",
    "        select(annotation) %>% pull()\n",
    "    ),\n",
    "    colClasses=c('FID'='character', 'IID'='character')\n",
    ")\n"
   ]
  },
  {
   "cell_type": "code",
   "execution_count": 19,
   "metadata": {},
   "outputs": [
    {
     "data": {
      "text/html": [
       "<ol class=list-inline>\n",
       "\t<li>461503</li>\n",
       "\t<li>37</li>\n",
       "</ol>\n"
      ],
      "text/latex": [
       "\\begin{enumerate*}\n",
       "\\item 461503\n",
       "\\item 37\n",
       "\\end{enumerate*}\n"
      ],
      "text/markdown": [
       "1. 461503\n",
       "2. 37\n",
       "\n",
       "\n"
      ],
      "text/plain": [
       "[1] 461503     37"
      ]
     },
     "metadata": {},
     "output_type": "display_data"
    }
   ],
   "source": [
    "biomarker_df %>% dim()"
   ]
  },
  {
   "cell_type": "code",
   "execution_count": 20,
   "metadata": {},
   "outputs": [],
   "source": [
    "blood_ukb_fields <- c(\n",
    "    # http://biobank.ctsu.ox.ac.uk/crystal/label.cgi?id=100081\n",
    "30160,\n",
    "30220,\n",
    "30150,\n",
    "30210,\n",
    "30030,\n",
    "30020,\n",
    "30300,\n",
    "30290,\n",
    "30280,\n",
    "30120,\n",
    "30180,\n",
    "30050,\n",
    "30060,\n",
    "30040,\n",
    "30100,\n",
    "30260,\n",
    "30270,\n",
    "30130,\n",
    "30190,\n",
    "30140,\n",
    "30200,\n",
    "30170,\n",
    "30230,\n",
    "30080,\n",
    "30090,\n",
    "30110,\n",
    "30010,\n",
    "30070,\n",
    "30250,\n",
    "30240,\n",
    "30000\n",
    ")\n"
   ]
  },
  {
   "cell_type": "code",
   "execution_count": 27,
   "metadata": {},
   "outputs": [],
   "source": [
    "master_phe_df <- fread(\n",
    "    master_phe_f,\n",
    "    select=c(\n",
    "        'FID', 'IID', \n",
    "        paste0('INI', sort(blood_ukb_fields))\n",
    "    ),\n",
    "    colClasses=c('FID'='character', 'IID'='character')\n",
    ")\n",
    "\n"
   ]
  },
  {
   "cell_type": "code",
   "execution_count": 28,
   "metadata": {},
   "outputs": [
    {
     "data": {
      "text/html": [
       "<ol class=list-inline>\n",
       "\t<li>516884</li>\n",
       "\t<li>33</li>\n",
       "</ol>\n"
      ],
      "text/latex": [
       "\\begin{enumerate*}\n",
       "\\item 516884\n",
       "\\item 33\n",
       "\\end{enumerate*}\n"
      ],
      "text/markdown": [
       "1. 516884\n",
       "2. 33\n",
       "\n",
       "\n"
      ],
      "text/plain": [
       "[1] 516884     33"
      ]
     },
     "metadata": {},
     "output_type": "display_data"
    }
   ],
   "source": [
    "master_phe_df %>% dim()"
   ]
  },
  {
   "cell_type": "code",
   "execution_count": 29,
   "metadata": {},
   "outputs": [
    {
     "name": "stderr",
     "output_type": "stream",
     "text": [
      "Auto-refreshing stale OAuth token.\n",
      "Sheet-identifying info appears to be a browser URL.\n",
      "googlesheets will attempt to extract sheet key from the URL.\n",
      "Putative key: 1gwzS0SVZBSKkkHgsoqB5vHo5JpUeYYz8PK2RWrHEq3A\n",
      "Sheet successfully identified: \"GBE_names\"\n",
      "Accessing worksheet titled 'GBE_names'.\n",
      "Parsed with column specification:\n",
      "cols(\n",
      "  GBE_category = \u001b[31mcol_character()\u001b[39m,\n",
      "  GBE_ID = \u001b[31mcol_character()\u001b[39m,\n",
      "  GBE_N = \u001b[32mcol_double()\u001b[39m,\n",
      "  GBE_NAME = \u001b[31mcol_character()\u001b[39m,\n",
      "  GBE_short_name = \u001b[31mcol_character()\u001b[39m,\n",
      "  GBE_short_name_len = \u001b[32mcol_double()\u001b[39m\n",
      ")\n"
     ]
    }
   ],
   "source": [
    "library(googlesheets)\n",
    "gs_auth(token = \"@@@@@@@@@@@@@@@@@@@\")\n",
    "\n",
    "file <- '@@@@@@@@@@@@@@@@@@@'\n",
    "GBE_names_df <- file %>% gs_url() %>% gs_read(ws = 'GBE_names')\n"
   ]
  },
  {
   "cell_type": "code",
   "execution_count": 56,
   "metadata": {},
   "outputs": [],
   "source": [
    "phe_meta_df <- \n",
    "GBE_names_df %>% \n",
    "filter(GBE_ID %in% paste0('INI', sort(blood_ukb_fields))) %>%\n",
    "select(GBE_ID, GBE_NAME, GBE_short_name) %>%\n",
    "rename('pheno_plot' = 'GBE_short_name', 'pheno' = 'GBE_NAME') %>%\n",
    "bind_rows(\n",
    "    biomarker_trait_list_df %>% \n",
    "    filter(annotation != 'Fasting_glucose') %>%\n",
    "    rename('pheno' = 'annotation', 'pheno_plot' = 'name') %>%\n",
    "    mutate(GBE_ID = pheno)\n",
    ") %>%\n",
    "select(GBE_ID, pheno, pheno_plot)\n"
   ]
  },
  {
   "cell_type": "code",
   "execution_count": 72,
   "metadata": {},
   "outputs": [
    {
     "data": {
      "text/html": [
       "<ol class=list-inline>\n",
       "\t<li>'GBE_ID'</li>\n",
       "\t<li>'pheno'</li>\n",
       "\t<li>'pheno_plot'</li>\n",
       "</ol>\n"
      ],
      "text/latex": [
       "\\begin{enumerate*}\n",
       "\\item 'GBE\\_ID'\n",
       "\\item 'pheno'\n",
       "\\item 'pheno\\_plot'\n",
       "\\end{enumerate*}\n"
      ],
      "text/markdown": [
       "1. 'GBE_ID'\n",
       "2. 'pheno'\n",
       "3. 'pheno_plot'\n",
       "\n",
       "\n"
      ],
      "text/plain": [
       "[1] \"GBE_ID\"     \"pheno\"      \"pheno_plot\""
      ]
     },
     "metadata": {},
     "output_type": "display_data"
    }
   ],
   "source": [
    "phe_meta_df %>% colnames()"
   ]
  },
  {
   "cell_type": "code",
   "execution_count": 71,
   "metadata": {},
   "outputs": [],
   "source": [
    "phe_meta_df %>% \n",
    "rename('#GBE_ID' = 'GBE_ID') %>%\n",
    "fwrite(phe_info_f, sep='\\t')\n"
   ]
  },
  {
   "cell_type": "code",
   "execution_count": 64,
   "metadata": {},
   "outputs": [],
   "source": [
    "merged_df <- gwas_covar_df %>%\n",
    "filter(population == 'white_british') %>%\n",
    "left_join(\n",
    "    biomarker_df, by=c('FID', 'IID')\n",
    ") %>%\n",
    "left_join(\n",
    "    master_phe_df, by=c('FID', 'IID')\n",
    ")\n"
   ]
  },
  {
   "cell_type": "code",
   "execution_count": 67,
   "metadata": {},
   "outputs": [
    {
     "data": {
      "text/html": [
       "<ol class=list-inline>\n",
       "\t<li>'FID'</li>\n",
       "\t<li>'IID'</li>\n",
       "\t<li>'population'</li>\n",
       "\t<li>'split'</li>\n",
       "\t<li>'age'</li>\n",
       "\t<li>'sex'</li>\n",
       "\t<li>'N_CNV'</li>\n",
       "\t<li>'LEN_CNV'</li>\n",
       "\t<li>'Array'</li>\n",
       "\t<li>'PC1'</li>\n",
       "\t<li>'PC2'</li>\n",
       "\t<li>'PC3'</li>\n",
       "\t<li>'PC4'</li>\n",
       "\t<li>'PC5'</li>\n",
       "\t<li>'PC6'</li>\n",
       "\t<li>'PC7'</li>\n",
       "\t<li>'PC8'</li>\n",
       "\t<li>'PC9'</li>\n",
       "\t<li>'PC10'</li>\n",
       "\t<li>'Alanine_aminotransferase'</li>\n",
       "\t<li>'Albumin'</li>\n",
       "\t<li>'Alkaline_phosphatase'</li>\n",
       "\t<li>'Apolipoprotein_A'</li>\n",
       "\t<li>'Apolipoprotein_B_adjstatins'</li>\n",
       "\t<li>'Aspartate_aminotransferase'</li>\n",
       "\t<li>'Calcium'</li>\n",
       "\t<li>'Cholesterol_adjstatins'</li>\n",
       "\t<li>'C_reactive_protein'</li>\n",
       "\t<li>'Creatinine'</li>\n",
       "\t<li>'Cystatin_C'</li>\n",
       "\t<li>'Direct_bilirubin'</li>\n",
       "\t<li>'Gamma_glutamyltransferase'</li>\n",
       "\t<li>'Glucose'</li>\n",
       "\t<li>'Glycated_haemoglobin_HbA1c'</li>\n",
       "\t<li>'HDL_cholesterol'</li>\n",
       "\t<li>'IGF_1'</li>\n",
       "\t<li>'LDL_direct_adjstatins'</li>\n",
       "\t<li>'Lipoprotein_A'</li>\n",
       "\t<li>'Phosphate'</li>\n",
       "\t<li>'SHBG'</li>\n",
       "\t<li>'Testosterone'</li>\n",
       "\t<li>'Total_bilirubin'</li>\n",
       "\t<li>'Total_protein'</li>\n",
       "\t<li>'Triglycerides'</li>\n",
       "\t<li>'Urate'</li>\n",
       "\t<li>'Urea'</li>\n",
       "\t<li>'Vitamin_D'</li>\n",
       "\t<li>'Creatinine_in_urine'</li>\n",
       "\t<li>'eGFR'</li>\n",
       "\t<li>'Microalbumin_in_urine'</li>\n",
       "\t<li>'Potassium_in_urine'</li>\n",
       "\t<li>'Sodium_in_urine'</li>\n",
       "\t<li>'Non_albumin_protein'</li>\n",
       "\t<li>'AST_ALT_ratio'</li>\n",
       "\t<li>'INI30000'</li>\n",
       "\t<li>'INI30010'</li>\n",
       "\t<li>'INI30020'</li>\n",
       "\t<li>'INI30030'</li>\n",
       "\t<li>'INI30040'</li>\n",
       "\t<li>'INI30050'</li>\n",
       "\t<li>'INI30060'</li>\n",
       "\t<li>'INI30070'</li>\n",
       "\t<li>'INI30080'</li>\n",
       "\t<li>'INI30090'</li>\n",
       "\t<li>'INI30100'</li>\n",
       "\t<li>'INI30110'</li>\n",
       "\t<li>'INI30120'</li>\n",
       "\t<li>'INI30130'</li>\n",
       "\t<li>'INI30140'</li>\n",
       "\t<li>'INI30150'</li>\n",
       "\t<li>'INI30160'</li>\n",
       "\t<li>'INI30170'</li>\n",
       "\t<li>'INI30180'</li>\n",
       "\t<li>'INI30190'</li>\n",
       "\t<li>'INI30200'</li>\n",
       "\t<li>'INI30210'</li>\n",
       "\t<li>'INI30220'</li>\n",
       "\t<li>'INI30230'</li>\n",
       "\t<li>'INI30240'</li>\n",
       "\t<li>'INI30250'</li>\n",
       "\t<li>'INI30260'</li>\n",
       "\t<li>'INI30270'</li>\n",
       "\t<li>'INI30280'</li>\n",
       "\t<li>'INI30290'</li>\n",
       "\t<li>'INI30300'</li>\n",
       "</ol>\n"
      ],
      "text/latex": [
       "\\begin{enumerate*}\n",
       "\\item 'FID'\n",
       "\\item 'IID'\n",
       "\\item 'population'\n",
       "\\item 'split'\n",
       "\\item 'age'\n",
       "\\item 'sex'\n",
       "\\item 'N\\_CNV'\n",
       "\\item 'LEN\\_CNV'\n",
       "\\item 'Array'\n",
       "\\item 'PC1'\n",
       "\\item 'PC2'\n",
       "\\item 'PC3'\n",
       "\\item 'PC4'\n",
       "\\item 'PC5'\n",
       "\\item 'PC6'\n",
       "\\item 'PC7'\n",
       "\\item 'PC8'\n",
       "\\item 'PC9'\n",
       "\\item 'PC10'\n",
       "\\item 'Alanine\\_aminotransferase'\n",
       "\\item 'Albumin'\n",
       "\\item 'Alkaline\\_phosphatase'\n",
       "\\item 'Apolipoprotein\\_A'\n",
       "\\item 'Apolipoprotein\\_B\\_adjstatins'\n",
       "\\item 'Aspartate\\_aminotransferase'\n",
       "\\item 'Calcium'\n",
       "\\item 'Cholesterol\\_adjstatins'\n",
       "\\item 'C\\_reactive\\_protein'\n",
       "\\item 'Creatinine'\n",
       "\\item 'Cystatin\\_C'\n",
       "\\item 'Direct\\_bilirubin'\n",
       "\\item 'Gamma\\_glutamyltransferase'\n",
       "\\item 'Glucose'\n",
       "\\item 'Glycated\\_haemoglobin\\_HbA1c'\n",
       "\\item 'HDL\\_cholesterol'\n",
       "\\item 'IGF\\_1'\n",
       "\\item 'LDL\\_direct\\_adjstatins'\n",
       "\\item 'Lipoprotein\\_A'\n",
       "\\item 'Phosphate'\n",
       "\\item 'SHBG'\n",
       "\\item 'Testosterone'\n",
       "\\item 'Total\\_bilirubin'\n",
       "\\item 'Total\\_protein'\n",
       "\\item 'Triglycerides'\n",
       "\\item 'Urate'\n",
       "\\item 'Urea'\n",
       "\\item 'Vitamin\\_D'\n",
       "\\item 'Creatinine\\_in\\_urine'\n",
       "\\item 'eGFR'\n",
       "\\item 'Microalbumin\\_in\\_urine'\n",
       "\\item 'Potassium\\_in\\_urine'\n",
       "\\item 'Sodium\\_in\\_urine'\n",
       "\\item 'Non\\_albumin\\_protein'\n",
       "\\item 'AST\\_ALT\\_ratio'\n",
       "\\item 'INI30000'\n",
       "\\item 'INI30010'\n",
       "\\item 'INI30020'\n",
       "\\item 'INI30030'\n",
       "\\item 'INI30040'\n",
       "\\item 'INI30050'\n",
       "\\item 'INI30060'\n",
       "\\item 'INI30070'\n",
       "\\item 'INI30080'\n",
       "\\item 'INI30090'\n",
       "\\item 'INI30100'\n",
       "\\item 'INI30110'\n",
       "\\item 'INI30120'\n",
       "\\item 'INI30130'\n",
       "\\item 'INI30140'\n",
       "\\item 'INI30150'\n",
       "\\item 'INI30160'\n",
       "\\item 'INI30170'\n",
       "\\item 'INI30180'\n",
       "\\item 'INI30190'\n",
       "\\item 'INI30200'\n",
       "\\item 'INI30210'\n",
       "\\item 'INI30220'\n",
       "\\item 'INI30230'\n",
       "\\item 'INI30240'\n",
       "\\item 'INI30250'\n",
       "\\item 'INI30260'\n",
       "\\item 'INI30270'\n",
       "\\item 'INI30280'\n",
       "\\item 'INI30290'\n",
       "\\item 'INI30300'\n",
       "\\end{enumerate*}\n"
      ],
      "text/markdown": [
       "1. 'FID'\n",
       "2. 'IID'\n",
       "3. 'population'\n",
       "4. 'split'\n",
       "5. 'age'\n",
       "6. 'sex'\n",
       "7. 'N_CNV'\n",
       "8. 'LEN_CNV'\n",
       "9. 'Array'\n",
       "10. 'PC1'\n",
       "11. 'PC2'\n",
       "12. 'PC3'\n",
       "13. 'PC4'\n",
       "14. 'PC5'\n",
       "15. 'PC6'\n",
       "16. 'PC7'\n",
       "17. 'PC8'\n",
       "18. 'PC9'\n",
       "19. 'PC10'\n",
       "20. 'Alanine_aminotransferase'\n",
       "21. 'Albumin'\n",
       "22. 'Alkaline_phosphatase'\n",
       "23. 'Apolipoprotein_A'\n",
       "24. 'Apolipoprotein_B_adjstatins'\n",
       "25. 'Aspartate_aminotransferase'\n",
       "26. 'Calcium'\n",
       "27. 'Cholesterol_adjstatins'\n",
       "28. 'C_reactive_protein'\n",
       "29. 'Creatinine'\n",
       "30. 'Cystatin_C'\n",
       "31. 'Direct_bilirubin'\n",
       "32. 'Gamma_glutamyltransferase'\n",
       "33. 'Glucose'\n",
       "34. 'Glycated_haemoglobin_HbA1c'\n",
       "35. 'HDL_cholesterol'\n",
       "36. 'IGF_1'\n",
       "37. 'LDL_direct_adjstatins'\n",
       "38. 'Lipoprotein_A'\n",
       "39. 'Phosphate'\n",
       "40. 'SHBG'\n",
       "41. 'Testosterone'\n",
       "42. 'Total_bilirubin'\n",
       "43. 'Total_protein'\n",
       "44. 'Triglycerides'\n",
       "45. 'Urate'\n",
       "46. 'Urea'\n",
       "47. 'Vitamin_D'\n",
       "48. 'Creatinine_in_urine'\n",
       "49. 'eGFR'\n",
       "50. 'Microalbumin_in_urine'\n",
       "51. 'Potassium_in_urine'\n",
       "52. 'Sodium_in_urine'\n",
       "53. 'Non_albumin_protein'\n",
       "54. 'AST_ALT_ratio'\n",
       "55. 'INI30000'\n",
       "56. 'INI30010'\n",
       "57. 'INI30020'\n",
       "58. 'INI30030'\n",
       "59. 'INI30040'\n",
       "60. 'INI30050'\n",
       "61. 'INI30060'\n",
       "62. 'INI30070'\n",
       "63. 'INI30080'\n",
       "64. 'INI30090'\n",
       "65. 'INI30100'\n",
       "66. 'INI30110'\n",
       "67. 'INI30120'\n",
       "68. 'INI30130'\n",
       "69. 'INI30140'\n",
       "70. 'INI30150'\n",
       "71. 'INI30160'\n",
       "72. 'INI30170'\n",
       "73. 'INI30180'\n",
       "74. 'INI30190'\n",
       "75. 'INI30200'\n",
       "76. 'INI30210'\n",
       "77. 'INI30220'\n",
       "78. 'INI30230'\n",
       "79. 'INI30240'\n",
       "80. 'INI30250'\n",
       "81. 'INI30260'\n",
       "82. 'INI30270'\n",
       "83. 'INI30280'\n",
       "84. 'INI30290'\n",
       "85. 'INI30300'\n",
       "\n",
       "\n"
      ],
      "text/plain": [
       " [1] \"FID\"                         \"IID\"                        \n",
       " [3] \"population\"                  \"split\"                      \n",
       " [5] \"age\"                         \"sex\"                        \n",
       " [7] \"N_CNV\"                       \"LEN_CNV\"                    \n",
       " [9] \"Array\"                       \"PC1\"                        \n",
       "[11] \"PC2\"                         \"PC3\"                        \n",
       "[13] \"PC4\"                         \"PC5\"                        \n",
       "[15] \"PC6\"                         \"PC7\"                        \n",
       "[17] \"PC8\"                         \"PC9\"                        \n",
       "[19] \"PC10\"                        \"Alanine_aminotransferase\"   \n",
       "[21] \"Albumin\"                     \"Alkaline_phosphatase\"       \n",
       "[23] \"Apolipoprotein_A\"            \"Apolipoprotein_B_adjstatins\"\n",
       "[25] \"Aspartate_aminotransferase\"  \"Calcium\"                    \n",
       "[27] \"Cholesterol_adjstatins\"      \"C_reactive_protein\"         \n",
       "[29] \"Creatinine\"                  \"Cystatin_C\"                 \n",
       "[31] \"Direct_bilirubin\"            \"Gamma_glutamyltransferase\"  \n",
       "[33] \"Glucose\"                     \"Glycated_haemoglobin_HbA1c\" \n",
       "[35] \"HDL_cholesterol\"             \"IGF_1\"                      \n",
       "[37] \"LDL_direct_adjstatins\"       \"Lipoprotein_A\"              \n",
       "[39] \"Phosphate\"                   \"SHBG\"                       \n",
       "[41] \"Testosterone\"                \"Total_bilirubin\"            \n",
       "[43] \"Total_protein\"               \"Triglycerides\"              \n",
       "[45] \"Urate\"                       \"Urea\"                       \n",
       "[47] \"Vitamin_D\"                   \"Creatinine_in_urine\"        \n",
       "[49] \"eGFR\"                        \"Microalbumin_in_urine\"      \n",
       "[51] \"Potassium_in_urine\"          \"Sodium_in_urine\"            \n",
       "[53] \"Non_albumin_protein\"         \"AST_ALT_ratio\"              \n",
       "[55] \"INI30000\"                    \"INI30010\"                   \n",
       "[57] \"INI30020\"                    \"INI30030\"                   \n",
       "[59] \"INI30040\"                    \"INI30050\"                   \n",
       "[61] \"INI30060\"                    \"INI30070\"                   \n",
       "[63] \"INI30080\"                    \"INI30090\"                   \n",
       "[65] \"INI30100\"                    \"INI30110\"                   \n",
       "[67] \"INI30120\"                    \"INI30130\"                   \n",
       "[69] \"INI30140\"                    \"INI30150\"                   \n",
       "[71] \"INI30160\"                    \"INI30170\"                   \n",
       "[73] \"INI30180\"                    \"INI30190\"                   \n",
       "[75] \"INI30200\"                    \"INI30210\"                   \n",
       "[77] \"INI30220\"                    \"INI30230\"                   \n",
       "[79] \"INI30240\"                    \"INI30250\"                   \n",
       "[81] \"INI30260\"                    \"INI30270\"                   \n",
       "[83] \"INI30280\"                    \"INI30290\"                   \n",
       "[85] \"INI30300\"                   "
      ]
     },
     "metadata": {},
     "output_type": "display_data"
    }
   ],
   "source": [
    "merged_df %>% colnames()"
   ]
  },
  {
   "cell_type": "code",
   "execution_count": 69,
   "metadata": {},
   "outputs": [],
   "source": [
    "merged_df %>% fwrite(phe_file, sep='\\t')\n"
   ]
  },
  {
   "cell_type": "code",
   "execution_count": null,
   "metadata": {},
   "outputs": [],
   "source": []
  }
 ],
 "metadata": {
  "kernelspec": {
   "display_name": "R",
   "language": "R",
   "name": "ir"
  },
  "language_info": {
   "codemirror_mode": "r",
   "file_extension": ".r",
   "mimetype": "text/x-r-source",
   "name": "R",
   "pygments_lexer": "r",
   "version": "3.6.1"
  }
 },
 "nbformat": 4,
 "nbformat_minor": 4
}

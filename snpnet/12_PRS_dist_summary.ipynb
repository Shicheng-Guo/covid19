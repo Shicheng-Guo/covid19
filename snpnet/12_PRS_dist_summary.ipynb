{
 "cells": [
  {
   "cell_type": "code",
   "execution_count": 1,
   "metadata": {},
   "outputs": [],
   "source": [
    "suppressPackageStartupMessages(library(tidyverse))\n",
    "suppressPackageStartupMessages(library(data.table))\n"
   ]
  },
  {
   "cell_type": "code",
   "execution_count": 2,
   "metadata": {},
   "outputs": [],
   "source": [
    "gwas_covar_f <- '@@@@@@@@@@@@@@@@@@@'\n"
   ]
  },
  {
   "cell_type": "code",
   "execution_count": 3,
   "metadata": {},
   "outputs": [],
   "source": [
    "gwas_covar_df <- fread(\n",
    "    gwas_covar_f,\n",
    "    select=c('FID', 'IID', 'population', 'split', 'age', 'sex', 'N_CNV', 'LEN_CNV', 'Array', paste0('PC', 1:10)),\n",
    "    colClasses=c('FID'='character', 'IID'='character')\n",
    ")\n"
   ]
  },
  {
   "cell_type": "code",
   "execution_count": 4,
   "metadata": {},
   "outputs": [],
   "source": [
    "FIDs <- gwas_covar_df %>%\n",
    "filter(split == 'val') %>%\n",
    "pull(FID)"
   ]
  },
  {
   "cell_type": "code",
   "execution_count": 5,
   "metadata": {},
   "outputs": [],
   "source": [
    "traits <- c(\n",
    "    'INI30190',\n",
    "    'INI30150',\n",
    "    'INI30210',\n",
    "    'INI30120',\n",
    "    'INI30180',\n",
    "    'INI30140',\n",
    "    'INI30200',\n",
    "    'INI30000'\n",
    ")\n"
   ]
  },
  {
   "cell_type": "code",
   "execution_count": 6,
   "metadata": {},
   "outputs": [],
   "source": [
    "score_df <- traits %>% lapply(function(trait){\n",
    "    score_f <- sprintf('data/%s/%s.sscore.zst', trait, trait)\n",
    "\n",
    "    score_df <- fread(\n",
    "        cmd=paste('zstdcat', score_f),\n",
    "        select=c('#FID', 'IID', 'SCORE1_SUM'),\n",
    "        colClasses=c('#FID'='character', 'IID'='character')\n",
    "    ) %>%\n",
    "    rename('FID'='#FID') %>%\n",
    "    rename(!!trait := 'SCORE1_SUM')    \n",
    "}) %>%\n",
    "reduce(function(x, y){x %>% inner_join(y, by=c('FID', 'IID'))})\n"
   ]
  },
  {
   "cell_type": "code",
   "execution_count": 7,
   "metadata": {},
   "outputs": [],
   "source": [
    "score_df_val <- score_df %>%\n",
    "filter(FID %in% FIDs)\n"
   ]
  },
  {
   "cell_type": "code",
   "execution_count": 11,
   "metadata": {},
   "outputs": [],
   "source": [
    "p <- score_df_val %>%\n",
    "select(-FID) %>%\n",
    "gather(trait, PRS, -IID) %>%\n",
    "ggplot(aes(x=PRS))+\n",
    "geom_histogram(bins=30) + \n",
    "facet_wrap( ~ trait, ncol=3, scales=\"free_x\") + \n",
    "theme_bw()+\n",
    "labs(\n",
    "    title = 'PRS distribution in the validation set',\n",
    "    x = 'snpnet PRS',\n",
    "    y = 'number of individuals'\n",
    ")\n"
   ]
  },
  {
   "cell_type": "code",
   "execution_count": 12,
   "metadata": {},
   "outputs": [
    {
     "data": {
      "image/png": "[encoded data removed]",
      "text/plain": [
       "plot without title"
      ]
     },
     "metadata": {},
     "output_type": "display_data"
    }
   ],
   "source": [
    "p"
   ]
  },
  {
   "cell_type": "code",
   "execution_count": 13,
   "metadata": {},
   "outputs": [
    {
     "name": "stderr",
     "output_type": "stream",
     "text": [
      "Saving 6.67 x 6.67 in image\n"
     ]
    }
   ],
   "source": [
    "ggsave('PRS.dist.png', p)"
   ]
  },
  {
   "cell_type": "code",
   "execution_count": 8,
   "metadata": {},
   "outputs": [],
   "source": [
    "sd_df <- setNames(\n",
    "    traits %>%\n",
    "    lapply(function(t){sd(score_df_val[[t]])}), \n",
    "    traits\n",
    ") %>%\n",
    "as.data.frame()\n",
    "rownames(sd_df) <- 'sd'\n"
   ]
  },
  {
   "cell_type": "code",
   "execution_count": 9,
   "metadata": {},
   "outputs": [],
   "source": [
    "summary_df <- traits %>%\n",
    "lapply(function(t){\n",
    "    df <- data.frame(\n",
    "        unclass(summary(score_df_val[[t]])), \n",
    "        check.names = FALSE, \n",
    "        stringsAsFactors = FALSE\n",
    "    )\n",
    "    names(df)<-t\n",
    "    df\n",
    "}) %>%\n",
    "bind_cols()\n",
    "rownames(summary_df)<- names(summary(1:3))\n"
   ]
  },
  {
   "cell_type": "code",
   "execution_count": 10,
   "metadata": {},
   "outputs": [],
   "source": [
    "summary_df2 <- bind_rows(\n",
    "    summary_df %>% rownames_to_column('statistic'),\n",
    "    sd_df %>% rownames_to_column('statistic')    \n",
    ")\n"
   ]
  },
  {
   "cell_type": "code",
   "execution_count": 15,
   "metadata": {},
   "outputs": [],
   "source": [
    "summary_df2 %>%\n",
    "rename('#statistic' = 'statistic') %>%\n",
    "fwrite('PRS.dist.statistic.tsv', sep='\\t', na = \"NA\", quote=F)\n"
   ]
  },
  {
   "cell_type": "code",
   "execution_count": null,
   "metadata": {},
   "outputs": [],
   "source": []
  }
 ],
 "metadata": {
  "kernelspec": {
   "display_name": "R",
   "language": "R",
   "name": "ir"
  },
  "language_info": {
   "codemirror_mode": "r",
   "file_extension": ".r",
   "mimetype": "text/x-r-source",
   "name": "R",
   "pygments_lexer": "r",
   "version": "3.6.1"
  }
 },
 "nbformat": 4,
 "nbformat_minor": 4
}

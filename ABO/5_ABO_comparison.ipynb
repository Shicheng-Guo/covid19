{
 "cells": [
  {
   "cell_type": "code",
   "execution_count": 1,
   "metadata": {},
   "outputs": [],
   "source": [
    "suppressPackageStartupMessages(library(tidyverse))\n",
    "suppressPackageStartupMessages(library(data.table))\n"
   ]
  },
  {
   "cell_type": "code",
   "execution_count": 2,
   "metadata": {},
   "outputs": [],
   "source": [
    "source('ABO_functions.R')"
   ]
  },
  {
   "cell_type": "code",
   "execution_count": 3,
   "metadata": {},
   "outputs": [],
   "source": [
    "freqs <- fread('ABO_combined_freq.tsv') %>%\n",
    "column_to_rownames('#population') %>%\n",
    "select(A, B, AB, O, n)\n"
   ]
  },
  {
   "cell_type": "code",
   "execution_count": 4,
   "metadata": {},
   "outputs": [
    {
     "data": {
      "text/html": [
       "<ol class=list-inline>\n",
       "\t<li>'UKB_white_british'</li>\n",
       "\t<li>'UKB_non_british_white'</li>\n",
       "\t<li>'UKB_african'</li>\n",
       "\t<li>'UKB_s_asian'</li>\n",
       "\t<li>'UKB_e_asian'</li>\n",
       "\t<li>'UKB_Chinese'</li>\n",
       "\t<li>'UKB_Indian'</li>\n",
       "\t<li>'UKB_Pakistani'</li>\n",
       "\t<li>'UKB_Bangladeshi'</li>\n",
       "\t<li>'Wuhan_controls'</li>\n",
       "\t<li>'Wuhan_Jinyintan_Hospital_Pts'</li>\n",
       "\t<li>'Wuhan_Jinyintan_Hospital_Deaths'</li>\n",
       "\t<li>'Renmin_Hospital_of_Wuhan_U_Pts'</li>\n",
       "\t<li>'Shenzhen_controls'</li>\n",
       "\t<li>'Shenzhen_3rd_ppl_Hospital_Pts'</li>\n",
       "</ol>\n"
      ],
      "text/latex": [
       "\\begin{enumerate*}\n",
       "\\item 'UKB\\_white\\_british'\n",
       "\\item 'UKB\\_non\\_british\\_white'\n",
       "\\item 'UKB\\_african'\n",
       "\\item 'UKB\\_s\\_asian'\n",
       "\\item 'UKB\\_e\\_asian'\n",
       "\\item 'UKB\\_Chinese'\n",
       "\\item 'UKB\\_Indian'\n",
       "\\item 'UKB\\_Pakistani'\n",
       "\\item 'UKB\\_Bangladeshi'\n",
       "\\item 'Wuhan\\_controls'\n",
       "\\item 'Wuhan\\_Jinyintan\\_Hospital\\_Pts'\n",
       "\\item 'Wuhan\\_Jinyintan\\_Hospital\\_Deaths'\n",
       "\\item 'Renmin\\_Hospital\\_of\\_Wuhan\\_U\\_Pts'\n",
       "\\item 'Shenzhen\\_controls'\n",
       "\\item 'Shenzhen\\_3rd\\_ppl\\_Hospital\\_Pts'\n",
       "\\end{enumerate*}\n"
      ],
      "text/markdown": [
       "1. 'UKB_white_british'\n",
       "2. 'UKB_non_british_white'\n",
       "3. 'UKB_african'\n",
       "4. 'UKB_s_asian'\n",
       "5. 'UKB_e_asian'\n",
       "6. 'UKB_Chinese'\n",
       "7. 'UKB_Indian'\n",
       "8. 'UKB_Pakistani'\n",
       "9. 'UKB_Bangladeshi'\n",
       "10. 'Wuhan_controls'\n",
       "11. 'Wuhan_Jinyintan_Hospital_Pts'\n",
       "12. 'Wuhan_Jinyintan_Hospital_Deaths'\n",
       "13. 'Renmin_Hospital_of_Wuhan_U_Pts'\n",
       "14. 'Shenzhen_controls'\n",
       "15. 'Shenzhen_3rd_ppl_Hospital_Pts'\n",
       "\n",
       "\n"
      ],
      "text/plain": [
       " [1] \"UKB_white_british\"               \"UKB_non_british_white\"          \n",
       " [3] \"UKB_african\"                     \"UKB_s_asian\"                    \n",
       " [5] \"UKB_e_asian\"                     \"UKB_Chinese\"                    \n",
       " [7] \"UKB_Indian\"                      \"UKB_Pakistani\"                  \n",
       " [9] \"UKB_Bangladeshi\"                 \"Wuhan_controls\"                 \n",
       "[11] \"Wuhan_Jinyintan_Hospital_Pts\"    \"Wuhan_Jinyintan_Hospital_Deaths\"\n",
       "[13] \"Renmin_Hospital_of_Wuhan_U_Pts\"  \"Shenzhen_controls\"              \n",
       "[15] \"Shenzhen_3rd_ppl_Hospital_Pts\"  "
      ]
     },
     "metadata": {},
     "output_type": "display_data"
    }
   ],
   "source": [
    "freqs %>% rownames()"
   ]
  },
  {
   "cell_type": "code",
   "execution_count": 5,
   "metadata": {},
   "outputs": [
    {
     "data": {
      "text/plain": [
       "\n",
       "\tFisher's Exact Test for Count Data\n",
       "\n",
       "data:  matrix(c(f1 * n1, n1 * (1 - f1), f2 * n2, n2 * (1 - f2)), nrow = 2)\n",
       "p-value = 4.982e-05\n",
       "alternative hypothesis: true odds ratio is not equal to 1\n",
       "95 percent confidence interval:\n",
       " 1.134188 1.441880\n",
       "sample estimates:\n",
       "odds ratio \n",
       "  1.278934 \n"
      ]
     },
     "metadata": {},
     "output_type": "display_data"
    }
   ],
   "source": [
    "comparefreq_wrapper(\n",
    "    case='Wuhan_Jinyintan_Hospital_Pts',\n",
    "    control='Wuhan_controls',\n",
    "    ABO_type='A',\n",
    "    freqs\n",
    ")\n"
   ]
  },
  {
   "cell_type": "code",
   "execution_count": 8,
   "metadata": {},
   "outputs": [],
   "source": [
    "OR_summary <- suppressWarnings({ \n",
    "bind_rows(\n",
    "    comparefreq_all_wrapper(\n",
    "        case='Wuhan_Jinyintan_Hospital_Pts',\n",
    "        control='Wuhan_controls',\n",
    "        freqs, summary=T\n",
    "    ),\n",
    "    comparefreq_all_wrapper(\n",
    "        case='Wuhan_Jinyintan_Hospital_Pts',\n",
    "        control='UKB_Chinese',\n",
    "        freqs, summary=T\n",
    "    ),    \n",
    "    comparefreq_all_wrapper(\n",
    "        case='Wuhan_Jinyintan_Hospital_Pts',\n",
    "        control='UKB_e_asian',\n",
    "        freqs, summary=T\n",
    "    ),\n",
    "    comparefreq_all_wrapper(\n",
    "        case='Wuhan_Jinyintan_Hospital_Deaths',\n",
    "        control='Wuhan_controls',\n",
    "        freqs, summary=T\n",
    "    ),\n",
    "    comparefreq_all_wrapper(\n",
    "        case='Wuhan_Jinyintan_Hospital_Deaths',\n",
    "        control='UKB_Chinese',\n",
    "        freqs, summary=T\n",
    "    ),\n",
    "    comparefreq_all_wrapper(\n",
    "        case='Wuhan_Jinyintan_Hospital_Deaths',\n",
    "        control='UKB_e_asian',\n",
    "        freqs, summary=T\n",
    "    ),\n",
    "    comparefreq_all_wrapper(\n",
    "        case='Wuhan_Jinyintan_Hospital_Deaths',\n",
    "        control='Wuhan_Jinyintan_Hospital_Pts',\n",
    "        freqs, summary=T\n",
    "    ),\n",
    "    comparefreq_all_wrapper(\n",
    "        case='Renmin_Hospital_of_Wuhan_U_Pts',\n",
    "        control='Wuhan_controls',\n",
    "        freqs, summary=T\n",
    "    ),\n",
    "    comparefreq_all_wrapper(\n",
    "        case='Renmin_Hospital_of_Wuhan_U_Pts',\n",
    "        control='UKB_Chinese',\n",
    "        freqs, summary=T\n",
    "    ),\n",
    "    comparefreq_all_wrapper(\n",
    "        case='Renmin_Hospital_of_Wuhan_U_Pts',\n",
    "        control='UKB_e_asian',\n",
    "        freqs, summary=T\n",
    "    ),\n",
    "    comparefreq_all_wrapper(\n",
    "        case='Wuhan_controls',\n",
    "        control='UKB_Chinese',\n",
    "        freqs, summary=T\n",
    "    ),\n",
    "    comparefreq_all_wrapper(\n",
    "        case='Shenzhen_3rd_ppl_Hospital_Pts',\n",
    "        control='Shenzhen_controls',\n",
    "        freqs, summary=T\n",
    "    ),\n",
    "    comparefreq_all_wrapper(\n",
    "        case='Shenzhen_3rd_ppl_Hospital_Pts',\n",
    "        control='UKB_Chinese',\n",
    "        freqs, summary=T\n",
    "    ),    \n",
    "    comparefreq_all_wrapper(\n",
    "        case='Shenzhen_3rd_ppl_Hospital_Pts',\n",
    "        control='UKB_e_asian',\n",
    "        freqs, summary=T\n",
    "    ),    \n",
    "    comparefreq_all_wrapper(\n",
    "        case='Shenzhen_controls',\n",
    "        control='UKB_Chinese',\n",
    "        freqs, summary=T\n",
    "    )    \n",
    ")    \n",
    "}) %>%\n",
    "mutate(P = sprintf('%.2e', P)) %>%\n",
    "select(-OR) %>%\n",
    "rename('OR' = 'OR_str') %>%\n",
    "select(case, control, ABO_type, OR, P)"
   ]
  },
  {
   "cell_type": "code",
   "execution_count": 9,
   "metadata": {},
   "outputs": [],
   "source": [
    "OR_summary %>% \n",
    "rename('#case' = 'case') %>%\n",
    "fwrite('ABO_OR.tsv', sep='\\t')"
   ]
  },
  {
   "cell_type": "code",
   "execution_count": null,
   "metadata": {},
   "outputs": [],
   "source": []
  }
 ],
 "metadata": {
  "kernelspec": {
   "display_name": "R",
   "language": "R",
   "name": "ir"
  },
  "language_info": {
   "codemirror_mode": "r",
   "file_extension": ".r",
   "mimetype": "text/x-r-source",
   "name": "R",
   "pygments_lexer": "r",
   "version": "3.6.1"
  }
 },
 "nbformat": 4,
 "nbformat_minor": 4
}

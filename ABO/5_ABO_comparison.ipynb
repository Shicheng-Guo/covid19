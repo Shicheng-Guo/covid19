{
 "cells": [
  {
   "cell_type": "code",
   "execution_count": 1,
   "metadata": {},
   "outputs": [],
   "source": [
    "suppressPackageStartupMessages(library(tidyverse))\n",
    "suppressPackageStartupMessages(library(data.table))\n"
   ]
  },
  {
   "cell_type": "code",
   "execution_count": 2,
   "metadata": {},
   "outputs": [],
   "source": [
    "source('ABO_functions.R')"
   ]
  },
  {
   "cell_type": "code",
   "execution_count": 3,
   "metadata": {},
   "outputs": [],
   "source": [
    "freqs <- fread('ABO_combined_freq.tsv') %>%\n",
    "column_to_rownames('#population') %>%\n",
    "select(A, B, AB, O, n)\n"
   ]
  },
  {
   "cell_type": "code",
   "execution_count": 4,
   "metadata": {},
   "outputs": [
    {
     "data": {
      "text/html": [
       "<ol class=list-inline>\n",
       "\t<li>'UKB_white_british'</li>\n",
       "\t<li>'UKB_non_british_white'</li>\n",
       "\t<li>'UKB_african'</li>\n",
       "\t<li>'UKB_s_asian'</li>\n",
       "\t<li>'UKB_e_asian'</li>\n",
       "\t<li>'UKB_Chinese'</li>\n",
       "\t<li>'UKB_Indian'</li>\n",
       "\t<li>'UKB_Pakistani'</li>\n",
       "\t<li>'UKB_Bangladeshi'</li>\n",
       "\t<li>'Wuhan_controls'</li>\n",
       "\t<li>'Wuhan_Jinyintan_Hospital_Pts'</li>\n",
       "\t<li>'Wuhan_Jinyintan_Hospital_Deaths'</li>\n",
       "\t<li>'Renmin_Hospital_of_Wuhan_U_Pts'</li>\n",
       "\t<li>'Shenzhen_controls'</li>\n",
       "\t<li>'Shenzhen_3rd_ppl_Hospital_Pts'</li>\n",
       "</ol>\n"
      ],
      "text/latex": [
       "\\begin{enumerate*}\n",
       "\\item 'UKB\\_white\\_british'\n",
       "\\item 'UKB\\_non\\_british\\_white'\n",
       "\\item 'UKB\\_african'\n",
       "\\item 'UKB\\_s\\_asian'\n",
       "\\item 'UKB\\_e\\_asian'\n",
       "\\item 'UKB\\_Chinese'\n",
       "\\item 'UKB\\_Indian'\n",
       "\\item 'UKB\\_Pakistani'\n",
       "\\item 'UKB\\_Bangladeshi'\n",
       "\\item 'Wuhan\\_controls'\n",
       "\\item 'Wuhan\\_Jinyintan\\_Hospital\\_Pts'\n",
       "\\item 'Wuhan\\_Jinyintan\\_Hospital\\_Deaths'\n",
       "\\item 'Renmin\\_Hospital\\_of\\_Wuhan\\_U\\_Pts'\n",
       "\\item 'Shenzhen\\_controls'\n",
       "\\item 'Shenzhen\\_3rd\\_ppl\\_Hospital\\_Pts'\n",
       "\\end{enumerate*}\n"
      ],
      "text/markdown": [
       "1. 'UKB_white_british'\n",
       "2. 'UKB_non_british_white'\n",
       "3. 'UKB_african'\n",
       "4. 'UKB_s_asian'\n",
       "5. 'UKB_e_asian'\n",
       "6. 'UKB_Chinese'\n",
       "7. 'UKB_Indian'\n",
       "8. 'UKB_Pakistani'\n",
       "9. 'UKB_Bangladeshi'\n",
       "10. 'Wuhan_controls'\n",
       "11. 'Wuhan_Jinyintan_Hospital_Pts'\n",
       "12. 'Wuhan_Jinyintan_Hospital_Deaths'\n",
       "13. 'Renmin_Hospital_of_Wuhan_U_Pts'\n",
       "14. 'Shenzhen_controls'\n",
       "15. 'Shenzhen_3rd_ppl_Hospital_Pts'\n",
       "\n",
       "\n"
      ],
      "text/plain": [
       " [1] \"UKB_white_british\"               \"UKB_non_british_white\"          \n",
       " [3] \"UKB_african\"                     \"UKB_s_asian\"                    \n",
       " [5] \"UKB_e_asian\"                     \"UKB_Chinese\"                    \n",
       " [7] \"UKB_Indian\"                      \"UKB_Pakistani\"                  \n",
       " [9] \"UKB_Bangladeshi\"                 \"Wuhan_controls\"                 \n",
       "[11] \"Wuhan_Jinyintan_Hospital_Pts\"    \"Wuhan_Jinyintan_Hospital_Deaths\"\n",
       "[13] \"Renmin_Hospital_of_Wuhan_U_Pts\"  \"Shenzhen_controls\"              \n",
       "[15] \"Shenzhen_3rd_ppl_Hospital_Pts\"  "
      ]
     },
     "metadata": {},
     "output_type": "display_data"
    }
   ],
   "source": [
    "freqs %>% rownames()"
   ]
  },
  {
   "cell_type": "code",
   "execution_count": 5,
   "metadata": {},
   "outputs": [
    {
     "data": {
      "text/plain": [
       "\n",
       "\tFisher's Exact Test for Count Data\n",
       "\n",
       "data:  matrix(c(f1 * n1, n1 * (1 - f1), f2 * n2, n2 * (1 - f2)), nrow = 2)\n",
       "p-value = 4.982e-05\n",
       "alternative hypothesis: true odds ratio is not equal to 1\n",
       "95 percent confidence interval:\n",
       " 1.134188 1.441880\n",
       "sample estimates:\n",
       "odds ratio \n",
       "  1.278934 \n"
      ]
     },
     "metadata": {},
     "output_type": "display_data"
    }
   ],
   "source": [
    "comparefreq_wrapper(\n",
    "    case='Wuhan_Jinyintan_Hospital_Pts',\n",
    "    control='Wuhan_controls',\n",
    "    ABO_type='A',\n",
    "    freqs\n",
    ")\n"
   ]
  },
  {
   "cell_type": "code",
   "execution_count": 6,
   "metadata": {},
   "outputs": [],
   "source": [
    "OR_summary <- suppressWarnings({ \n",
    "bind_rows(\n",
    "    comparefreq_all_wrapper(\n",
    "        case='Wuhan_Jinyintan_Hospital_Pts',\n",
    "        control='Wuhan_controls',\n",
    "        freqs, summary=T\n",
    "    ),\n",
    "    comparefreq_all_wrapper(\n",
    "        case='Wuhan_Jinyintan_Hospital_Pts',\n",
    "        control='UKB_Chinese',\n",
    "        freqs, summary=T\n",
    "    ),    \n",
    "    comparefreq_all_wrapper(\n",
    "        case='Wuhan_Jinyintan_Hospital_Pts',\n",
    "        control='UKB_e_asian',\n",
    "        freqs, summary=T\n",
    "    ),\n",
    "    comparefreq_all_wrapper(\n",
    "        case='Wuhan_controls',\n",
    "        control='UKB_Chinese',\n",
    "        freqs, summary=T\n",
    "    ),\n",
    "    comparefreq_all_wrapper(\n",
    "        case='Shenzhen_3rd_ppl_Hospital_Pts',\n",
    "        control='Shenzhen_controls',\n",
    "        freqs, summary=T\n",
    "    ),\n",
    "    comparefreq_all_wrapper(\n",
    "        case='Shenzhen_3rd_ppl_Hospital_Pts',\n",
    "        control='UKB_Chinese',\n",
    "        freqs, summary=T\n",
    "    ),    \n",
    "    comparefreq_all_wrapper(\n",
    "        case='Shenzhen_3rd_ppl_Hospital_Pts',\n",
    "        control='UKB_e_asian',\n",
    "        freqs, summary=T\n",
    "    ),    \n",
    "    comparefreq_all_wrapper(\n",
    "        case='Shenzhen_controls',\n",
    "        control='UKB_Chinese',\n",
    "        freqs, summary=T\n",
    "    )    \n",
    ")    \n",
    "}) %>%\n",
    "mutate(P = sprintf('%.2e', P)) %>%\n",
    "select(-OR) %>%\n",
    "rename('OR' = 'OR_str') %>%\n",
    "select(case, control, ABO_type, OR, P)"
   ]
  },
  {
   "cell_type": "code",
   "execution_count": 7,
   "metadata": {},
   "outputs": [],
   "source": [
    "OR_summary %>% \n",
    "rename('#case' = 'case') %>%\n",
    "fwrite('ABO_OR.tsv', sep='\\t')"
   ]
  },
  {
   "cell_type": "code",
   "execution_count": 56,
   "metadata": {},
   "outputs": [
    {
     "data": {
      "text/html": [
       "<table>\n",
       "<caption>A data.frame: 16 × 5</caption>\n",
       "<thead>\n",
       "\t<tr><th scope=col>case</th><th scope=col>control</th><th scope=col>ABO_type</th><th scope=col>OR</th><th scope=col>P</th></tr>\n",
       "\t<tr><th scope=col>&lt;chr&gt;</th><th scope=col>&lt;chr&gt;</th><th scope=col>&lt;chr&gt;</th><th scope=col>&lt;chr&gt;</th><th scope=col>&lt;chr&gt;</th></tr>\n",
       "</thead>\n",
       "<tbody>\n",
       "\t<tr><td>Wuhan_Jinyintan_Hospital_Pts</td><td>Wuhan_controls</td><td>A </td><td>1.279 (1.134 - 1.442)</td><td>4.98e-05</td></tr>\n",
       "\t<tr><td>Wuhan_Jinyintan_Hospital_Pts</td><td>Wuhan_controls</td><td>B </td><td>1.083 (0.949 - 1.234)</td><td>2.32e-01</td></tr>\n",
       "\t<tr><td>Wuhan_Jinyintan_Hospital_Pts</td><td>Wuhan_controls</td><td>AB</td><td>1.114 (0.915 - 1.353)</td><td>2.76e-01</td></tr>\n",
       "\t<tr><td>Wuhan_Jinyintan_Hospital_Pts</td><td>Wuhan_controls</td><td>O </td><td>0.680 (0.598 - 0.773)</td><td>1.44e-09</td></tr>\n",
       "\t<tr><td>Wuhan_Jinyintan_Hospital_Pts</td><td>UKB_Chinese   </td><td>A </td><td>1.688 (1.446 - 1.972)</td><td>1.03e-11</td></tr>\n",
       "\t<tr><td>Wuhan_Jinyintan_Hospital_Pts</td><td>UKB_Chinese   </td><td>B </td><td>0.978 (0.833 - 1.150)</td><td>8.09e-01</td></tr>\n",
       "\t<tr><td>Wuhan_Jinyintan_Hospital_Pts</td><td>UKB_Chinese   </td><td>AB</td><td>1.502 (1.154 - 1.964)</td><td>1.87e-03</td></tr>\n",
       "\t<tr><td>Wuhan_Jinyintan_Hospital_Pts</td><td>UKB_Chinese   </td><td>O </td><td>0.551 (0.473 - 0.643)</td><td>8.52e-15</td></tr>\n",
       "\t<tr><td>Wuhan_Jinyintan_Hospital_Pts</td><td>UKB_e_asian   </td><td>A </td><td>1.718 (1.456 - 2.030)</td><td>4.21e-11</td></tr>\n",
       "\t<tr><td>Wuhan_Jinyintan_Hospital_Pts</td><td>UKB_e_asian   </td><td>B </td><td>1.009 (0.850 - 1.198)</td><td>9.32e-01</td></tr>\n",
       "\t<tr><td>Wuhan_Jinyintan_Hospital_Pts</td><td>UKB_e_asian   </td><td>AB</td><td>1.603 (1.203 - 2.153)</td><td>9.42e-04</td></tr>\n",
       "\t<tr><td>Wuhan_Jinyintan_Hospital_Pts</td><td>UKB_e_asian   </td><td>O </td><td>0.517 (0.440 - 0.608)</td><td>4.32e-16</td></tr>\n",
       "\t<tr><td>Wuhan_controls              </td><td>UKB_Chinese   </td><td>A </td><td>1.320 (1.149 - 1.518)</td><td>6.30e-05</td></tr>\n",
       "\t<tr><td>Wuhan_controls              </td><td>UKB_Chinese   </td><td>B </td><td>0.904 (0.785 - 1.042)</td><td>1.62e-01</td></tr>\n",
       "\t<tr><td>Wuhan_controls              </td><td>UKB_Chinese   </td><td>AB</td><td>1.349 (1.064 - 1.722)</td><td>1.16e-02</td></tr>\n",
       "\t<tr><td>Wuhan_controls              </td><td>UKB_Chinese   </td><td>O </td><td>0.811 (0.713 - 0.922)</td><td>1.21e-03</td></tr>\n",
       "</tbody>\n",
       "</table>\n"
      ],
      "text/latex": [
       "A data.frame: 16 × 5\n",
       "\\begin{tabular}{r|lllll}\n",
       " case & control & ABO\\_type & OR & P\\\\\n",
       " <chr> & <chr> & <chr> & <chr> & <chr>\\\\\n",
       "\\hline\n",
       "\t Wuhan\\_Jinyintan\\_Hospital\\_Pts & Wuhan\\_controls & A  & 1.279 (1.134 - 1.442) & 4.98e-05\\\\\n",
       "\t Wuhan\\_Jinyintan\\_Hospital\\_Pts & Wuhan\\_controls & B  & 1.083 (0.949 - 1.234) & 2.32e-01\\\\\n",
       "\t Wuhan\\_Jinyintan\\_Hospital\\_Pts & Wuhan\\_controls & AB & 1.114 (0.915 - 1.353) & 2.76e-01\\\\\n",
       "\t Wuhan\\_Jinyintan\\_Hospital\\_Pts & Wuhan\\_controls & O  & 0.680 (0.598 - 0.773) & 1.44e-09\\\\\n",
       "\t Wuhan\\_Jinyintan\\_Hospital\\_Pts & UKB\\_Chinese    & A  & 1.688 (1.446 - 1.972) & 1.03e-11\\\\\n",
       "\t Wuhan\\_Jinyintan\\_Hospital\\_Pts & UKB\\_Chinese    & B  & 0.978 (0.833 - 1.150) & 8.09e-01\\\\\n",
       "\t Wuhan\\_Jinyintan\\_Hospital\\_Pts & UKB\\_Chinese    & AB & 1.502 (1.154 - 1.964) & 1.87e-03\\\\\n",
       "\t Wuhan\\_Jinyintan\\_Hospital\\_Pts & UKB\\_Chinese    & O  & 0.551 (0.473 - 0.643) & 8.52e-15\\\\\n",
       "\t Wuhan\\_Jinyintan\\_Hospital\\_Pts & UKB\\_e\\_asian    & A  & 1.718 (1.456 - 2.030) & 4.21e-11\\\\\n",
       "\t Wuhan\\_Jinyintan\\_Hospital\\_Pts & UKB\\_e\\_asian    & B  & 1.009 (0.850 - 1.198) & 9.32e-01\\\\\n",
       "\t Wuhan\\_Jinyintan\\_Hospital\\_Pts & UKB\\_e\\_asian    & AB & 1.603 (1.203 - 2.153) & 9.42e-04\\\\\n",
       "\t Wuhan\\_Jinyintan\\_Hospital\\_Pts & UKB\\_e\\_asian    & O  & 0.517 (0.440 - 0.608) & 4.32e-16\\\\\n",
       "\t Wuhan\\_controls               & UKB\\_Chinese    & A  & 1.320 (1.149 - 1.518) & 6.30e-05\\\\\n",
       "\t Wuhan\\_controls               & UKB\\_Chinese    & B  & 0.904 (0.785 - 1.042) & 1.62e-01\\\\\n",
       "\t Wuhan\\_controls               & UKB\\_Chinese    & AB & 1.349 (1.064 - 1.722) & 1.16e-02\\\\\n",
       "\t Wuhan\\_controls               & UKB\\_Chinese    & O  & 0.811 (0.713 - 0.922) & 1.21e-03\\\\\n",
       "\\end{tabular}\n"
      ],
      "text/markdown": [
       "\n",
       "A data.frame: 16 × 5\n",
       "\n",
       "| case &lt;chr&gt; | control &lt;chr&gt; | ABO_type &lt;chr&gt; | OR &lt;chr&gt; | P &lt;chr&gt; |\n",
       "|---|---|---|---|---|\n",
       "| Wuhan_Jinyintan_Hospital_Pts | Wuhan_controls | A  | 1.279 (1.134 - 1.442) | 4.98e-05 |\n",
       "| Wuhan_Jinyintan_Hospital_Pts | Wuhan_controls | B  | 1.083 (0.949 - 1.234) | 2.32e-01 |\n",
       "| Wuhan_Jinyintan_Hospital_Pts | Wuhan_controls | AB | 1.114 (0.915 - 1.353) | 2.76e-01 |\n",
       "| Wuhan_Jinyintan_Hospital_Pts | Wuhan_controls | O  | 0.680 (0.598 - 0.773) | 1.44e-09 |\n",
       "| Wuhan_Jinyintan_Hospital_Pts | UKB_Chinese    | A  | 1.688 (1.446 - 1.972) | 1.03e-11 |\n",
       "| Wuhan_Jinyintan_Hospital_Pts | UKB_Chinese    | B  | 0.978 (0.833 - 1.150) | 8.09e-01 |\n",
       "| Wuhan_Jinyintan_Hospital_Pts | UKB_Chinese    | AB | 1.502 (1.154 - 1.964) | 1.87e-03 |\n",
       "| Wuhan_Jinyintan_Hospital_Pts | UKB_Chinese    | O  | 0.551 (0.473 - 0.643) | 8.52e-15 |\n",
       "| Wuhan_Jinyintan_Hospital_Pts | UKB_e_asian    | A  | 1.718 (1.456 - 2.030) | 4.21e-11 |\n",
       "| Wuhan_Jinyintan_Hospital_Pts | UKB_e_asian    | B  | 1.009 (0.850 - 1.198) | 9.32e-01 |\n",
       "| Wuhan_Jinyintan_Hospital_Pts | UKB_e_asian    | AB | 1.603 (1.203 - 2.153) | 9.42e-04 |\n",
       "| Wuhan_Jinyintan_Hospital_Pts | UKB_e_asian    | O  | 0.517 (0.440 - 0.608) | 4.32e-16 |\n",
       "| Wuhan_controls               | UKB_Chinese    | A  | 1.320 (1.149 - 1.518) | 6.30e-05 |\n",
       "| Wuhan_controls               | UKB_Chinese    | B  | 0.904 (0.785 - 1.042) | 1.62e-01 |\n",
       "| Wuhan_controls               | UKB_Chinese    | AB | 1.349 (1.064 - 1.722) | 1.16e-02 |\n",
       "| Wuhan_controls               | UKB_Chinese    | O  | 0.811 (0.713 - 0.922) | 1.21e-03 |\n",
       "\n"
      ],
      "text/plain": [
       "   case                         control        ABO_type OR                   \n",
       "1  Wuhan_Jinyintan_Hospital_Pts Wuhan_controls A        1.279 (1.134 - 1.442)\n",
       "2  Wuhan_Jinyintan_Hospital_Pts Wuhan_controls B        1.083 (0.949 - 1.234)\n",
       "3  Wuhan_Jinyintan_Hospital_Pts Wuhan_controls AB       1.114 (0.915 - 1.353)\n",
       "4  Wuhan_Jinyintan_Hospital_Pts Wuhan_controls O        0.680 (0.598 - 0.773)\n",
       "5  Wuhan_Jinyintan_Hospital_Pts UKB_Chinese    A        1.688 (1.446 - 1.972)\n",
       "6  Wuhan_Jinyintan_Hospital_Pts UKB_Chinese    B        0.978 (0.833 - 1.150)\n",
       "7  Wuhan_Jinyintan_Hospital_Pts UKB_Chinese    AB       1.502 (1.154 - 1.964)\n",
       "8  Wuhan_Jinyintan_Hospital_Pts UKB_Chinese    O        0.551 (0.473 - 0.643)\n",
       "9  Wuhan_Jinyintan_Hospital_Pts UKB_e_asian    A        1.718 (1.456 - 2.030)\n",
       "10 Wuhan_Jinyintan_Hospital_Pts UKB_e_asian    B        1.009 (0.850 - 1.198)\n",
       "11 Wuhan_Jinyintan_Hospital_Pts UKB_e_asian    AB       1.603 (1.203 - 2.153)\n",
       "12 Wuhan_Jinyintan_Hospital_Pts UKB_e_asian    O        0.517 (0.440 - 0.608)\n",
       "13 Wuhan_controls               UKB_Chinese    A        1.320 (1.149 - 1.518)\n",
       "14 Wuhan_controls               UKB_Chinese    B        0.904 (0.785 - 1.042)\n",
       "15 Wuhan_controls               UKB_Chinese    AB       1.349 (1.064 - 1.722)\n",
       "16 Wuhan_controls               UKB_Chinese    O        0.811 (0.713 - 0.922)\n",
       "   P       \n",
       "1  4.98e-05\n",
       "2  2.32e-01\n",
       "3  2.76e-01\n",
       "4  1.44e-09\n",
       "5  1.03e-11\n",
       "6  8.09e-01\n",
       "7  1.87e-03\n",
       "8  8.52e-15\n",
       "9  4.21e-11\n",
       "10 9.32e-01\n",
       "11 9.42e-04\n",
       "12 4.32e-16\n",
       "13 6.30e-05\n",
       "14 1.62e-01\n",
       "15 1.16e-02\n",
       "16 1.21e-03"
      ]
     },
     "metadata": {},
     "output_type": "display_data"
    }
   ],
   "source": [
    "OR_summary %>%\n",
    "head(4*4)"
   ]
  },
  {
   "cell_type": "code",
   "execution_count": 57,
   "metadata": {},
   "outputs": [
    {
     "data": {
      "text/html": [
       "<table>\n",
       "<caption>A data.frame: 16 × 5</caption>\n",
       "<thead>\n",
       "\t<tr><th></th><th scope=col>case</th><th scope=col>control</th><th scope=col>ABO_type</th><th scope=col>OR</th><th scope=col>P</th></tr>\n",
       "\t<tr><th></th><th scope=col>&lt;chr&gt;</th><th scope=col>&lt;chr&gt;</th><th scope=col>&lt;chr&gt;</th><th scope=col>&lt;chr&gt;</th><th scope=col>&lt;chr&gt;</th></tr>\n",
       "</thead>\n",
       "<tbody>\n",
       "\t<tr><th scope=row>17</th><td>Shenzhen_3rd_ppl_Hospital_Pts</td><td>Shenzhen_controls</td><td>A </td><td>1.000 (0.763 - 1.301)</td><td>1.00e+00</td></tr>\n",
       "\t<tr><th scope=row>18</th><td>Shenzhen_3rd_ppl_Hospital_Pts</td><td>Shenzhen_controls</td><td>B </td><td>1.223 (0.934 - 1.590)</td><td>1.31e-01</td></tr>\n",
       "\t<tr><th scope=row>19</th><td>Shenzhen_3rd_ppl_Hospital_Pts</td><td>Shenzhen_controls</td><td>AB</td><td>2.007 (1.388 - 2.834)</td><td>2.18e-04</td></tr>\n",
       "\t<tr><th scope=row>20</th><td>Shenzhen_3rd_ppl_Hospital_Pts</td><td>Shenzhen_controls</td><td>O </td><td>0.627 (0.478 - 0.816)</td><td>2.98e-04</td></tr>\n",
       "\t<tr><th scope=row>21</th><td>Shenzhen_3rd_ppl_Hospital_Pts</td><td>UKB_Chinese      </td><td>A </td><td>1.124 (0.837 - 1.502)</td><td>4.21e-01</td></tr>\n",
       "\t<tr><th scope=row>22</th><td>Shenzhen_3rd_ppl_Hospital_Pts</td><td>UKB_Chinese      </td><td>B </td><td>1.119 (0.834 - 1.494)</td><td>4.24e-01</td></tr>\n",
       "\t<tr><th scope=row>23</th><td>Shenzhen_3rd_ppl_Hospital_Pts</td><td>UKB_Chinese      </td><td>AB</td><td>2.136 (1.399 - 3.212)</td><td>3.01e-04</td></tr>\n",
       "\t<tr><th scope=row>24</th><td>Shenzhen_3rd_ppl_Hospital_Pts</td><td>UKB_Chinese      </td><td>O </td><td>0.629 (0.470 - 0.837)</td><td>9.76e-04</td></tr>\n",
       "\t<tr><th scope=row>25</th><td>Shenzhen_3rd_ppl_Hospital_Pts</td><td>UKB_e_asian      </td><td>A </td><td>1.145 (0.846 - 1.539)</td><td>3.69e-01</td></tr>\n",
       "\t<tr><th scope=row>26</th><td>Shenzhen_3rd_ppl_Hospital_Pts</td><td>UKB_e_asian      </td><td>B </td><td>1.154 (0.854 - 1.550)</td><td>3.32e-01</td></tr>\n",
       "\t<tr><th scope=row>27</th><td>Shenzhen_3rd_ppl_Hospital_Pts</td><td>UKB_e_asian      </td><td>AB</td><td>2.279 (1.469 - 3.492)</td><td>1.93e-04</td></tr>\n",
       "\t<tr><th scope=row>28</th><td>Shenzhen_3rd_ppl_Hospital_Pts</td><td>UKB_e_asian      </td><td>O </td><td>0.591 (0.439 - 0.789)</td><td>2.25e-04</td></tr>\n",
       "\t<tr><th scope=row>29</th><td>Shenzhen_controls            </td><td>UKB_Chinese      </td><td>A </td><td>1.124 (0.995 - 1.273)</td><td>6.08e-02</td></tr>\n",
       "\t<tr><th scope=row>30</th><td>Shenzhen_controls            </td><td>UKB_Chinese      </td><td>B </td><td>0.915 (0.810 - 1.036)</td><td>1.57e-01</td></tr>\n",
       "\t<tr><th scope=row>31</th><td>Shenzhen_controls            </td><td>UKB_Chinese      </td><td>AB</td><td>1.065 (0.861 - 1.329)</td><td>5.99e-01</td></tr>\n",
       "\t<tr><th scope=row>32</th><td>Shenzhen_controls            </td><td>UKB_Chinese      </td><td>O </td><td>1.003 (0.898 - 1.122)</td><td>9.78e-01</td></tr>\n",
       "</tbody>\n",
       "</table>\n"
      ],
      "text/latex": [
       "A data.frame: 16 × 5\n",
       "\\begin{tabular}{r|lllll}\n",
       "  & case & control & ABO\\_type & OR & P\\\\\n",
       "  & <chr> & <chr> & <chr> & <chr> & <chr>\\\\\n",
       "\\hline\n",
       "\t17 & Shenzhen\\_3rd\\_ppl\\_Hospital\\_Pts & Shenzhen\\_controls & A  & 1.000 (0.763 - 1.301) & 1.00e+00\\\\\n",
       "\t18 & Shenzhen\\_3rd\\_ppl\\_Hospital\\_Pts & Shenzhen\\_controls & B  & 1.223 (0.934 - 1.590) & 1.31e-01\\\\\n",
       "\t19 & Shenzhen\\_3rd\\_ppl\\_Hospital\\_Pts & Shenzhen\\_controls & AB & 2.007 (1.388 - 2.834) & 2.18e-04\\\\\n",
       "\t20 & Shenzhen\\_3rd\\_ppl\\_Hospital\\_Pts & Shenzhen\\_controls & O  & 0.627 (0.478 - 0.816) & 2.98e-04\\\\\n",
       "\t21 & Shenzhen\\_3rd\\_ppl\\_Hospital\\_Pts & UKB\\_Chinese       & A  & 1.124 (0.837 - 1.502) & 4.21e-01\\\\\n",
       "\t22 & Shenzhen\\_3rd\\_ppl\\_Hospital\\_Pts & UKB\\_Chinese       & B  & 1.119 (0.834 - 1.494) & 4.24e-01\\\\\n",
       "\t23 & Shenzhen\\_3rd\\_ppl\\_Hospital\\_Pts & UKB\\_Chinese       & AB & 2.136 (1.399 - 3.212) & 3.01e-04\\\\\n",
       "\t24 & Shenzhen\\_3rd\\_ppl\\_Hospital\\_Pts & UKB\\_Chinese       & O  & 0.629 (0.470 - 0.837) & 9.76e-04\\\\\n",
       "\t25 & Shenzhen\\_3rd\\_ppl\\_Hospital\\_Pts & UKB\\_e\\_asian       & A  & 1.145 (0.846 - 1.539) & 3.69e-01\\\\\n",
       "\t26 & Shenzhen\\_3rd\\_ppl\\_Hospital\\_Pts & UKB\\_e\\_asian       & B  & 1.154 (0.854 - 1.550) & 3.32e-01\\\\\n",
       "\t27 & Shenzhen\\_3rd\\_ppl\\_Hospital\\_Pts & UKB\\_e\\_asian       & AB & 2.279 (1.469 - 3.492) & 1.93e-04\\\\\n",
       "\t28 & Shenzhen\\_3rd\\_ppl\\_Hospital\\_Pts & UKB\\_e\\_asian       & O  & 0.591 (0.439 - 0.789) & 2.25e-04\\\\\n",
       "\t29 & Shenzhen\\_controls             & UKB\\_Chinese       & A  & 1.124 (0.995 - 1.273) & 6.08e-02\\\\\n",
       "\t30 & Shenzhen\\_controls             & UKB\\_Chinese       & B  & 0.915 (0.810 - 1.036) & 1.57e-01\\\\\n",
       "\t31 & Shenzhen\\_controls             & UKB\\_Chinese       & AB & 1.065 (0.861 - 1.329) & 5.99e-01\\\\\n",
       "\t32 & Shenzhen\\_controls             & UKB\\_Chinese       & O  & 1.003 (0.898 - 1.122) & 9.78e-01\\\\\n",
       "\\end{tabular}\n"
      ],
      "text/markdown": [
       "\n",
       "A data.frame: 16 × 5\n",
       "\n",
       "| <!--/--> | case &lt;chr&gt; | control &lt;chr&gt; | ABO_type &lt;chr&gt; | OR &lt;chr&gt; | P &lt;chr&gt; |\n",
       "|---|---|---|---|---|---|\n",
       "| 17 | Shenzhen_3rd_ppl_Hospital_Pts | Shenzhen_controls | A  | 1.000 (0.763 - 1.301) | 1.00e+00 |\n",
       "| 18 | Shenzhen_3rd_ppl_Hospital_Pts | Shenzhen_controls | B  | 1.223 (0.934 - 1.590) | 1.31e-01 |\n",
       "| 19 | Shenzhen_3rd_ppl_Hospital_Pts | Shenzhen_controls | AB | 2.007 (1.388 - 2.834) | 2.18e-04 |\n",
       "| 20 | Shenzhen_3rd_ppl_Hospital_Pts | Shenzhen_controls | O  | 0.627 (0.478 - 0.816) | 2.98e-04 |\n",
       "| 21 | Shenzhen_3rd_ppl_Hospital_Pts | UKB_Chinese       | A  | 1.124 (0.837 - 1.502) | 4.21e-01 |\n",
       "| 22 | Shenzhen_3rd_ppl_Hospital_Pts | UKB_Chinese       | B  | 1.119 (0.834 - 1.494) | 4.24e-01 |\n",
       "| 23 | Shenzhen_3rd_ppl_Hospital_Pts | UKB_Chinese       | AB | 2.136 (1.399 - 3.212) | 3.01e-04 |\n",
       "| 24 | Shenzhen_3rd_ppl_Hospital_Pts | UKB_Chinese       | O  | 0.629 (0.470 - 0.837) | 9.76e-04 |\n",
       "| 25 | Shenzhen_3rd_ppl_Hospital_Pts | UKB_e_asian       | A  | 1.145 (0.846 - 1.539) | 3.69e-01 |\n",
       "| 26 | Shenzhen_3rd_ppl_Hospital_Pts | UKB_e_asian       | B  | 1.154 (0.854 - 1.550) | 3.32e-01 |\n",
       "| 27 | Shenzhen_3rd_ppl_Hospital_Pts | UKB_e_asian       | AB | 2.279 (1.469 - 3.492) | 1.93e-04 |\n",
       "| 28 | Shenzhen_3rd_ppl_Hospital_Pts | UKB_e_asian       | O  | 0.591 (0.439 - 0.789) | 2.25e-04 |\n",
       "| 29 | Shenzhen_controls             | UKB_Chinese       | A  | 1.124 (0.995 - 1.273) | 6.08e-02 |\n",
       "| 30 | Shenzhen_controls             | UKB_Chinese       | B  | 0.915 (0.810 - 1.036) | 1.57e-01 |\n",
       "| 31 | Shenzhen_controls             | UKB_Chinese       | AB | 1.065 (0.861 - 1.329) | 5.99e-01 |\n",
       "| 32 | Shenzhen_controls             | UKB_Chinese       | O  | 1.003 (0.898 - 1.122) | 9.78e-01 |\n",
       "\n"
      ],
      "text/plain": [
       "   case                          control           ABO_type\n",
       "17 Shenzhen_3rd_ppl_Hospital_Pts Shenzhen_controls A       \n",
       "18 Shenzhen_3rd_ppl_Hospital_Pts Shenzhen_controls B       \n",
       "19 Shenzhen_3rd_ppl_Hospital_Pts Shenzhen_controls AB      \n",
       "20 Shenzhen_3rd_ppl_Hospital_Pts Shenzhen_controls O       \n",
       "21 Shenzhen_3rd_ppl_Hospital_Pts UKB_Chinese       A       \n",
       "22 Shenzhen_3rd_ppl_Hospital_Pts UKB_Chinese       B       \n",
       "23 Shenzhen_3rd_ppl_Hospital_Pts UKB_Chinese       AB      \n",
       "24 Shenzhen_3rd_ppl_Hospital_Pts UKB_Chinese       O       \n",
       "25 Shenzhen_3rd_ppl_Hospital_Pts UKB_e_asian       A       \n",
       "26 Shenzhen_3rd_ppl_Hospital_Pts UKB_e_asian       B       \n",
       "27 Shenzhen_3rd_ppl_Hospital_Pts UKB_e_asian       AB      \n",
       "28 Shenzhen_3rd_ppl_Hospital_Pts UKB_e_asian       O       \n",
       "29 Shenzhen_controls             UKB_Chinese       A       \n",
       "30 Shenzhen_controls             UKB_Chinese       B       \n",
       "31 Shenzhen_controls             UKB_Chinese       AB      \n",
       "32 Shenzhen_controls             UKB_Chinese       O       \n",
       "   OR                    P       \n",
       "17 1.000 (0.763 - 1.301) 1.00e+00\n",
       "18 1.223 (0.934 - 1.590) 1.31e-01\n",
       "19 2.007 (1.388 - 2.834) 2.18e-04\n",
       "20 0.627 (0.478 - 0.816) 2.98e-04\n",
       "21 1.124 (0.837 - 1.502) 4.21e-01\n",
       "22 1.119 (0.834 - 1.494) 4.24e-01\n",
       "23 2.136 (1.399 - 3.212) 3.01e-04\n",
       "24 0.629 (0.470 - 0.837) 9.76e-04\n",
       "25 1.145 (0.846 - 1.539) 3.69e-01\n",
       "26 1.154 (0.854 - 1.550) 3.32e-01\n",
       "27 2.279 (1.469 - 3.492) 1.93e-04\n",
       "28 0.591 (0.439 - 0.789) 2.25e-04\n",
       "29 1.124 (0.995 - 1.273) 6.08e-02\n",
       "30 0.915 (0.810 - 1.036) 1.57e-01\n",
       "31 1.065 (0.861 - 1.329) 5.99e-01\n",
       "32 1.003 (0.898 - 1.122) 9.78e-01"
      ]
     },
     "metadata": {},
     "output_type": "display_data"
    }
   ],
   "source": [
    "OR_summary %>%\n",
    "tail(4*4)"
   ]
  },
  {
   "cell_type": "code",
   "execution_count": null,
   "metadata": {},
   "outputs": [],
   "source": []
  }
 ],
 "metadata": {
  "kernelspec": {
   "display_name": "R",
   "language": "R",
   "name": "ir"
  },
  "language_info": {
   "codemirror_mode": "r",
   "file_extension": ".r",
   "mimetype": "text/x-r-source",
   "name": "R",
   "pygments_lexer": "r",
   "version": "3.6.1"
  }
 },
 "nbformat": 4,
 "nbformat_minor": 4
}
